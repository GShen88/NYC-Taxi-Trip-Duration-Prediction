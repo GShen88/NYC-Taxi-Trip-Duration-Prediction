{
 "cells": [
  {
   "cell_type": "code",
   "execution_count": 1,
   "metadata": {},
   "outputs": [],
   "source": [
    "#@title import packages\n",
    "import numpy as np\n",
    "import pandas as pd\n",
    "import matplotlib.pyplot as plt\n",
    "import datetime\n",
    "from datetime import date\n",
    "import seaborn as sns\n",
    "import sklearn as sl\n",
    "from sklearn import preprocessing\n",
    "\n",
    "# read data from csv file\n",
    "df = pd.read_csv(\"yellow_tripdata_2018-06.csv\") \n",
    "\n",
    "df['tpep_pickup_datetime'] = pd.to_datetime(df.tpep_pickup_datetime)\n",
    "df['tpep_dropoff_datetime'] = pd.to_datetime(df.tpep_dropoff_datetime)\n",
    "df[\"pickup_weekday_name\"] = df.tpep_pickup_datetime.dt.weekday_name\n",
    "df[\"pickup_hour\"] = df.tpep_pickup_datetime.dt.hour\n",
    "df[\"dropoff_hour\"] = df.tpep_dropoff_datetime.dt.hour\n",
    "df[\"trip_duration\"] = (df[\"tpep_dropoff_datetime\"] - df[\"tpep_pickup_datetime\"]).dt.total_seconds()\n",
    "\n",
    "df1 = df.loc[:,['pickup_weekday_name', 'pickup_hour', 'tpep_pickup_datetime','tpep_dropoff_datetime','trip_duration', 'PULocationID', 'DOLocationID','trip_distance', 'passenger_count']]\n",
    "\n",
    "df1 = df1.query(\"datetime.datetime(2018,6,1,0,0,0) <= tpep_pickup_datetime < datetime.datetime(2018,7,1,0,0,0)\")\n",
    "\n",
    "df1['pick_time'] = [d.time() for d in df1['tpep_pickup_datetime']]\n",
    "df1 = df1.query(\"datetime.time(17,0,0) <= pick_time < datetime.time(20,0,0)\")\n",
    "df1 = df1.drop(['pick_time'],axis=1)\n",
    "\n",
    "df1 = df1.drop(df1[df1.trip_duration > 79200].index)\n",
    "df1 = df1.drop(df1[(df1.trip_duration > 60) & (df1.trip_distance == 0)].index)\n",
    "df1 = df1.drop(df1[(df1.trip_duration == 0) & (df1.trip_distance != 0)].index)\n",
    "\n",
    "df_rushhour = df1.drop(['pickup_hour', 'tpep_pickup_datetime', 'tpep_dropoff_datetime', 'trip_distance', 'passenger_count'],axis=1)\n",
    "\n",
    "weekday = pd.get_dummies(df_rushhour.pickup_weekday_name).astype(np.int64)\n",
    "pickup = pd.get_dummies(df_rushhour.PULocationID).astype(np.int64)\n",
    "dropoff= pd.get_dummies(df_rushhour.DOLocationID).astype(np.int64)\n",
    "\n",
    "df_rushhour_temp = df_rushhour.drop(['pickup_weekday_name', 'PULocationID', 'DOLocationID'], axis=1)\n",
    "df_rushhour_new = pd.concat([df_rushhour_temp, weekday, pickup, dropoff], axis=1)\n",
    "df_rushhour_0 = df_rushhour_new.copy() # a copy of df_rushhour_new"
   ]
  },
  {
   "cell_type": "code",
   "execution_count": 24,
   "metadata": {},
   "outputs": [],
   "source": [
    "weekday_list = weekday.columns.to_list()\n",
    "pickup_list = pickup.columns.to_list()\n",
    "dropoff_list = dropoff.columns.to_list()"
   ]
  },
  {
   "cell_type": "code",
   "execution_count": 25,
   "metadata": {},
   "outputs": [],
   "source": [
    "np.savez('one_hot.npz',weekday_list = weekday_list, pickup_list = pickup_list,dropoff_list = dropoff_list)"
   ]
  },
  {
   "cell_type": "code",
   "execution_count": 2,
   "metadata": {},
   "outputs": [
    {
     "data": {
      "text/html": [
       "<div>\n",
       "<style scoped>\n",
       "    .dataframe tbody tr th:only-of-type {\n",
       "        vertical-align: middle;\n",
       "    }\n",
       "\n",
       "    .dataframe tbody tr th {\n",
       "        vertical-align: top;\n",
       "    }\n",
       "\n",
       "    .dataframe thead th {\n",
       "        text-align: right;\n",
       "    }\n",
       "</style>\n",
       "<table border=\"1\" class=\"dataframe\">\n",
       "  <thead>\n",
       "    <tr style=\"text-align: right;\">\n",
       "      <th></th>\n",
       "      <th>trip_duration</th>\n",
       "      <th>Friday</th>\n",
       "      <th>Monday</th>\n",
       "      <th>Saturday</th>\n",
       "      <th>Sunday</th>\n",
       "      <th>Thursday</th>\n",
       "      <th>Tuesday</th>\n",
       "      <th>Wednesday</th>\n",
       "      <th>1</th>\n",
       "      <th>2</th>\n",
       "      <th>...</th>\n",
       "      <th>256</th>\n",
       "      <th>257</th>\n",
       "      <th>258</th>\n",
       "      <th>259</th>\n",
       "      <th>260</th>\n",
       "      <th>261</th>\n",
       "      <th>262</th>\n",
       "      <th>263</th>\n",
       "      <th>264</th>\n",
       "      <th>265</th>\n",
       "    </tr>\n",
       "  </thead>\n",
       "  <tbody>\n",
       "    <tr>\n",
       "      <th>149221</th>\n",
       "      <td>240.0</td>\n",
       "      <td>1</td>\n",
       "      <td>0</td>\n",
       "      <td>0</td>\n",
       "      <td>0</td>\n",
       "      <td>0</td>\n",
       "      <td>0</td>\n",
       "      <td>0</td>\n",
       "      <td>0</td>\n",
       "      <td>0</td>\n",
       "      <td>...</td>\n",
       "      <td>0</td>\n",
       "      <td>0</td>\n",
       "      <td>0</td>\n",
       "      <td>0</td>\n",
       "      <td>0</td>\n",
       "      <td>0</td>\n",
       "      <td>0</td>\n",
       "      <td>0</td>\n",
       "      <td>0</td>\n",
       "      <td>0</td>\n",
       "    </tr>\n",
       "    <tr>\n",
       "      <th>149222</th>\n",
       "      <td>328.0</td>\n",
       "      <td>1</td>\n",
       "      <td>0</td>\n",
       "      <td>0</td>\n",
       "      <td>0</td>\n",
       "      <td>0</td>\n",
       "      <td>0</td>\n",
       "      <td>0</td>\n",
       "      <td>0</td>\n",
       "      <td>0</td>\n",
       "      <td>...</td>\n",
       "      <td>0</td>\n",
       "      <td>0</td>\n",
       "      <td>0</td>\n",
       "      <td>0</td>\n",
       "      <td>0</td>\n",
       "      <td>0</td>\n",
       "      <td>0</td>\n",
       "      <td>0</td>\n",
       "      <td>0</td>\n",
       "      <td>0</td>\n",
       "    </tr>\n",
       "    <tr>\n",
       "      <th>149223</th>\n",
       "      <td>755.0</td>\n",
       "      <td>1</td>\n",
       "      <td>0</td>\n",
       "      <td>0</td>\n",
       "      <td>0</td>\n",
       "      <td>0</td>\n",
       "      <td>0</td>\n",
       "      <td>0</td>\n",
       "      <td>0</td>\n",
       "      <td>0</td>\n",
       "      <td>...</td>\n",
       "      <td>0</td>\n",
       "      <td>0</td>\n",
       "      <td>0</td>\n",
       "      <td>0</td>\n",
       "      <td>0</td>\n",
       "      <td>0</td>\n",
       "      <td>0</td>\n",
       "      <td>0</td>\n",
       "      <td>0</td>\n",
       "      <td>0</td>\n",
       "    </tr>\n",
       "    <tr>\n",
       "      <th>176869</th>\n",
       "      <td>506.0</td>\n",
       "      <td>1</td>\n",
       "      <td>0</td>\n",
       "      <td>0</td>\n",
       "      <td>0</td>\n",
       "      <td>0</td>\n",
       "      <td>0</td>\n",
       "      <td>0</td>\n",
       "      <td>0</td>\n",
       "      <td>0</td>\n",
       "      <td>...</td>\n",
       "      <td>0</td>\n",
       "      <td>0</td>\n",
       "      <td>0</td>\n",
       "      <td>0</td>\n",
       "      <td>0</td>\n",
       "      <td>0</td>\n",
       "      <td>0</td>\n",
       "      <td>0</td>\n",
       "      <td>0</td>\n",
       "      <td>0</td>\n",
       "    </tr>\n",
       "    <tr>\n",
       "      <th>176898</th>\n",
       "      <td>244.0</td>\n",
       "      <td>1</td>\n",
       "      <td>0</td>\n",
       "      <td>0</td>\n",
       "      <td>0</td>\n",
       "      <td>0</td>\n",
       "      <td>0</td>\n",
       "      <td>0</td>\n",
       "      <td>0</td>\n",
       "      <td>0</td>\n",
       "      <td>...</td>\n",
       "      <td>0</td>\n",
       "      <td>0</td>\n",
       "      <td>0</td>\n",
       "      <td>0</td>\n",
       "      <td>0</td>\n",
       "      <td>0</td>\n",
       "      <td>0</td>\n",
       "      <td>0</td>\n",
       "      <td>0</td>\n",
       "      <td>0</td>\n",
       "    </tr>\n",
       "  </tbody>\n",
       "</table>\n",
       "<p>5 rows × 515 columns</p>\n",
       "</div>"
      ],
      "text/plain": [
       "        trip_duration  Friday  Monday  Saturday  Sunday  Thursday  Tuesday  \\\n",
       "149221          240.0       1       0         0       0         0        0   \n",
       "149222          328.0       1       0         0       0         0        0   \n",
       "149223          755.0       1       0         0       0         0        0   \n",
       "176869          506.0       1       0         0       0         0        0   \n",
       "176898          244.0       1       0         0       0         0        0   \n",
       "\n",
       "        Wednesday  1  2  ...  256  257  258  259  260  261  262  263  264  265  \n",
       "149221          0  0  0  ...    0    0    0    0    0    0    0    0    0    0  \n",
       "149222          0  0  0  ...    0    0    0    0    0    0    0    0    0    0  \n",
       "149223          0  0  0  ...    0    0    0    0    0    0    0    0    0    0  \n",
       "176869          0  0  0  ...    0    0    0    0    0    0    0    0    0    0  \n",
       "176898          0  0  0  ...    0    0    0    0    0    0    0    0    0    0  \n",
       "\n",
       "[5 rows x 515 columns]"
      ]
     },
     "execution_count": 2,
     "metadata": {},
     "output_type": "execute_result"
    }
   ],
   "source": [
    "df_rushhour_0.head()"
   ]
  },
  {
   "cell_type": "code",
   "execution_count": 2,
   "metadata": {},
   "outputs": [],
   "source": [
    "import timeit,time"
   ]
  },
  {
   "cell_type": "markdown",
   "metadata": {},
   "source": [
    "# --------------------------------------------------------------------------------------------------------------"
   ]
  },
  {
   "cell_type": "markdown",
   "metadata": {},
   "source": [
    "# Part 3. Model Training"
   ]
  },
  {
   "cell_type": "markdown",
   "metadata": {},
   "source": [
    "#### 80% of the samples will be used to train all the models, and 20% is reserved for test the models in next section."
   ]
  },
  {
   "cell_type": "code",
   "execution_count": 4,
   "metadata": {},
   "outputs": [],
   "source": [
    "from sklearn.model_selection import train_test_split\n",
    "\n",
    "# The 20% test data will kept aside, they won't be seen by the models until final test/comparison.\n",
    "\n",
    "# df_rushhour_0\n",
    "model_train, model_test = train_test_split(df_rushhour_0, test_size=0.20, random_state = 3)\n",
    "\n",
    "model_train_x = model_train.drop(['trip_duration'], axis = 1)\n",
    "model_test_x = model_test.drop(['trip_duration'], axis = 1)\n",
    "\n",
    "model_train_y = model_train['trip_duration']\n",
    "model_test_y = model_test['trip_duration']"
   ]
  },
  {
   "cell_type": "code",
   "execution_count": 3,
   "metadata": {},
   "outputs": [],
   "source": [
    "# from joblib import dump, load\n",
    "# dump(model_train,'model_train.joblib')\n",
    "# dump(model_test,'model_test.joblib')\n",
    "# dump(model_train_x,'model_train_x.joblib')\n",
    "# dump(model_test_x,'model_test_x.joblib')\n",
    "# dump(model_train_y,'model_train_y.joblib')\n",
    "# dump(model_test_y,'model_test_y.joblib')"
   ]
  },
  {
   "cell_type": "code",
   "execution_count": 4,
   "metadata": {},
   "outputs": [
    {
     "name": "stdout",
     "output_type": "stream",
     "text": [
      "23.133026599884033  sec\n"
     ]
    }
   ],
   "source": [
    "# import timeit,time\n",
    "# from joblib import dump, load\n",
    "# start = time.time()\n",
    "\n",
    "# model_train=load('model_train.joblib')\n",
    "# model_test=load('model_test.joblib')\n",
    "# model_train_x=load('model_train_x.joblib')\n",
    "# model_test_x=load('model_test_x.joblib')\n",
    "# model_train_y=load('model_train_y.joblib')\n",
    "# model_test_y=load('model_test_y.joblib')\n",
    "\n",
    "# end = time.time()\n",
    "# print(end - start,' sec')"
   ]
  },
  {
   "cell_type": "markdown",
   "metadata": {},
   "source": [
    "## 3.1 Linear Models"
   ]
  },
  {
   "cell_type": "markdown",
   "metadata": {},
   "source": [
    "### 3.1.1 Lasso Linear Regression with linear features"
   ]
  },
  {
   "cell_type": "code",
   "execution_count": 28,
   "metadata": {},
   "outputs": [
    {
     "name": "stdout",
     "output_type": "stream",
     "text": [
      "8.94620394706726  sec\n"
     ]
    },
    {
     "name": "stderr",
     "output_type": "stream",
     "text": [
      "C:\\Users\\guanm\\Anaconda3\\envs\\guanming\\lib\\site-packages\\sklearn\\linear_model\\coordinate_descent.py:492: ConvergenceWarning: Objective did not converge. You might want to increase the number of iterations. Fitting data with very small alpha may cause precision problems.\n",
      "  ConvergenceWarning)\n"
     ]
    },
    {
     "data": {
      "image/png": "[encoded data removed]",
      "text/plain": [
       "<Figure size 432x288 with 1 Axes>"
      ]
     },
     "metadata": {
      "needs_background": "light"
     },
     "output_type": "display_data"
    },
    {
     "name": "stdout",
     "output_type": "stream",
     "text": [
      "The optimaized alpha and score of Lasso linear is:  0.001 0.355373443703179\n",
      "989.3041594028473  sec\n"
     ]
    }
   ],
   "source": [
    "A = time.time()\n",
    "\n",
    "from sklearn.model_selection import train_test_split\n",
    "from sklearn.linear_model import LinearRegression, Lasso, Ridge\n",
    "from sklearn.metrics import mean_squared_error, r2_score\n",
    "from math import sqrt\n",
    "import numpy as np\n",
    "import pandas as pd\n",
    "import matplotlib.pyplot as plt\n",
    "import datetime\n",
    "from datetime import date\n",
    "import seaborn as sns\n",
    "import sklearn as sl\n",
    "from sklearn import preprocessing\n",
    "\n",
    "lr_train, lr_validate = train_test_split(model_train, test_size=0.20, random_state = 0)\n",
    "\n",
    "lr_train_x = lr_train.drop(['trip_duration'], axis = 1)\n",
    "lr_validate_x = lr_validate.drop(['trip_duration'], axis = 1)\n",
    "lr_train_y = lr_train['trip_duration']\n",
    "lr_validate_y = lr_validate['trip_duration']\n",
    "\n",
    "B = time.time()\n",
    "print(B - A,' sec')\n",
    "\n",
    "del lr_train\n",
    "del lr_validate\n",
    "\n",
    "alphas = np.logspace(-3, 0, num=1)             # plot one point to see the score since computation takes too much time \n",
    "# alphas= [0.000000001]\n",
    "\n",
    "scores = np.empty_like(alphas)\n",
    "opt_a = float('-inf')            #  The optimaized alpha\n",
    "max_score = float('-inf')        #  score of Lasso linear\n",
    "\n",
    "for i, a in enumerate(alphas):\n",
    "    lasso = sl.linear_model.Lasso(alpha = a,tol=0.01,normalize=False,max_iter=1000,selection='random')                   # imported sklearn as sl\n",
    "    lasso.fit(lr_train_x, lr_train_y)\n",
    "    scores[i] = lasso.score(lr_validate_x, lr_validate_y)\n",
    "    if scores[i] > max_score:\n",
    "        max_score = scores[i]\n",
    "        opt_a = a\n",
    "        lasso_save = lasso\n",
    "plt.plot(alphas, scores, color='pink', linestyle='dashed', marker='o',markerfacecolor='pink', markersize=6)\n",
    "plt.xlabel('alpha')\n",
    "plt.ylabel('score')\n",
    "plt.grid(True)\n",
    "plt.title('score vs. alpha')\n",
    "plt.show()\n",
    "print('The optimaized alpha and score of Lasso linear is: ', opt_a, max_score)\n",
    "\n",
    "C = time.time()\n",
    "print(C - B,' sec')"
   ]
  },
  {
   "cell_type": "code",
   "execution_count": 29,
   "metadata": {},
   "outputs": [
    {
     "data": {
      "text/plain": [
       "0.3500078135532597"
      ]
     },
     "execution_count": 29,
     "metadata": {},
     "output_type": "execute_result"
    }
   ],
   "source": [
    "lasso.score(model_test_x,model_test_y)"
   ]
  },
  {
   "cell_type": "markdown",
   "metadata": {},
   "source": [
    "#### I plotted several points before this one actually. However, due to the fact that the cumputation is too large, I failed to show them here. But I recorded the result which the score of Lasso linear model kept increasing as the alpha reaching 0.001."
   ]
  },
  {
   "cell_type": "markdown",
   "metadata": {},
   "source": [
    "# --------------------------------------------------------------------------------------------------------------"
   ]
  },
  {
   "cell_type": "markdown",
   "metadata": {},
   "source": [
    "### 3.1.2 Linear Regression"
   ]
  },
  {
   "cell_type": "code",
   "execution_count": 4,
   "metadata": {},
   "outputs": [
    {
     "name": "stdout",
     "output_type": "stream",
     "text": [
      "37.79152297973633  sec\n"
     ]
    }
   ],
   "source": [
    "A = time.time()\n",
    "\n",
    "import numpy as np\n",
    "import pandas as pd\n",
    "from sklearn.linear_model import LinearRegression\n",
    "\n",
    "Linear = LinearRegression(fit_intercept=True, normalize=False, n_jobs=-1)\n",
    "Linear.fit(model_train_x.to_numpy(),model_train_y.to_numpy())\n",
    "\n",
    "C = time.time()\n",
    "print(C - A,' sec')"
   ]
  },
  {
   "cell_type": "code",
   "execution_count": 5,
   "metadata": {},
   "outputs": [
    {
     "data": {
      "text/plain": [
       "0.35078293022742313"
      ]
     },
     "execution_count": 5,
     "metadata": {},
     "output_type": "execute_result"
    }
   ],
   "source": [
    "Linear.score(model_train_x,model_train_y)"
   ]
  },
  {
   "cell_type": "markdown",
   "metadata": {},
   "source": [
    "# --------------------------------------------------------------------------------------------------------------"
   ]
  },
  {
   "cell_type": "markdown",
   "metadata": {},
   "source": [
    "## 3.2 Non-Linear Models"
   ]
  },
  {
   "cell_type": "markdown",
   "metadata": {},
   "source": [
    "### 3.2.1 Decision Tree"
   ]
  },
  {
   "cell_type": "code",
   "execution_count": 14,
   "metadata": {},
   "outputs": [],
   "source": [
    "# A = time.time()\n",
    "\n",
    "# from sklearn.tree import DecisionTreeRegressor\n",
    "\n",
    "# Tree = DecisionTreeRegressor(\n",
    "#     criterion='mse',\n",
    "#     splitter='best',\n",
    "#     max_depth=None,\n",
    "#     min_samples_split=2, \n",
    "#     min_samples_leaf=1, \n",
    "#     min_weight_fraction_leaf=0.0, \n",
    "#     max_features=None, \n",
    "#     random_state=None, \n",
    "#     max_leaf_nodes=None, \n",
    "#     min_impurity_decrease=0.0, \n",
    "#     min_impurity_split=None, \n",
    "#     presort=False)\n",
    "\n",
    "# Tree.fit(model_train_x,model_train_y)\n",
    "\n",
    "# C = time.time()\n",
    "# print(C - A,' sec')"
   ]
  },
  {
   "cell_type": "code",
   "execution_count": 15,
   "metadata": {},
   "outputs": [],
   "source": [
    "# Tree.score(model_test_x,model_test_y)"
   ]
  },
  {
   "cell_type": "code",
   "execution_count": 9,
   "metadata": {},
   "outputs": [
    {
     "name": "stdout",
     "output_type": "stream",
     "text": [
      "174.41580057144165  sec\n"
     ]
    }
   ],
   "source": [
    "A = time.time()\n",
    "dt_train, dt_validate = train_test_split(model_train, test_size=0.20, random_state = 0)\n",
    "\n",
    "dt_train_x = dt_train.drop(['trip_duration'], axis = 1)\n",
    "dt_validate_x = dt_validate.drop(['trip_duration'], axis = 1)\n",
    "dt_train_y = dt_train['trip_duration']\n",
    "dt_validate_y = dt_validate['trip_duration']\n",
    "\n",
    "from sklearn.tree import DecisionTreeRegressor\n",
    "\n",
    "Tree = DecisionTreeRegressor(\n",
    "    criterion='mse',\n",
    "    splitter='best',\n",
    "    max_depth=None,\n",
    "    min_samples_split=2, \n",
    "    min_samples_leaf=1, \n",
    "    min_weight_fraction_leaf=0.0, \n",
    "    max_features=None, \n",
    "    random_state=None, \n",
    "    max_leaf_nodes=None, \n",
    "    min_impurity_decrease=0.0, \n",
    "    min_impurity_split=None, \n",
    "    presort=False)\n",
    "\n",
    "Tree.fit(dt_train_x, dt_train_y)\n",
    "\n",
    "C = time.time()\n",
    "print(C - A,' sec')"
   ]
  },
  {
   "cell_type": "code",
   "execution_count": 11,
   "metadata": {},
   "outputs": [
    {
     "name": "stdout",
     "output_type": "stream",
     "text": [
      "0.6208320027652228\n",
      "0.4228687286376953  sec\n"
     ]
    }
   ],
   "source": [
    "A = time.time()\n",
    "print(Tree.score(dt_validate_x, dt_validate_y))\n",
    "C = time.time()\n",
    "print(C - A,' sec')"
   ]
  },
  {
   "cell_type": "markdown",
   "metadata": {},
   "source": [
    "# --------------------------------------------------------------------------------------------------------------"
   ]
  },
  {
   "cell_type": "markdown",
   "metadata": {},
   "source": [
    "### 3.2.2 Random Forest"
   ]
  },
  {
   "cell_type": "code",
   "execution_count": 5,
   "metadata": {},
   "outputs": [
    {
     "name": "stdout",
     "output_type": "stream",
     "text": [
      "540.7030777931213  sec\n"
     ]
    }
   ],
   "source": [
    "A = time.time()\n",
    "\n",
    "rf_train, rf_validate = train_test_split(model_train, test_size=0.20, random_state = 0)\n",
    "\n",
    "rf_train_x = rf_train.drop(['trip_duration'], axis = 1)\n",
    "rf_validate_x = rf_validate.drop(['trip_duration'], axis = 1)\n",
    "rf_train_y = rf_train['trip_duration']\n",
    "rf_validate_y = rf_validate['trip_duration']\n",
    "\n",
    "\n",
    "from sklearn.ensemble import RandomForestRegressor\n",
    "\n",
    "Forest = RandomForestRegressor(\n",
    "    n_estimators=10,\n",
    "    criterion='mse', \n",
    "    max_depth=None, \n",
    "    min_samples_split=2, \n",
    "    min_samples_leaf=1, \n",
    "    min_weight_fraction_leaf=0.0, \n",
    "    max_features='auto', \n",
    "    max_leaf_nodes=None, \n",
    "    min_impurity_decrease=0.0, \n",
    "    min_impurity_split=None, \n",
    "    bootstrap=True, \n",
    "    oob_score=False, \n",
    "    n_jobs=-1, \n",
    "    random_state=None, \n",
    "    verbose=0, \n",
    "    warm_start=False)\n",
    "\n",
    "Forest.fit(rf_train_x, rf_train_y)\n",
    "\n",
    "C = time.time()\n",
    "print(C - A,' sec')"
   ]
  },
  {
   "cell_type": "code",
   "execution_count": 6,
   "metadata": {},
   "outputs": [
    {
     "name": "stdout",
     "output_type": "stream",
     "text": [
      "0.6240470024182512\n",
      "0.5988695621490479  sec\n"
     ]
    }
   ],
   "source": [
    "A = time.time()\n",
    "print(Forest.score(rf_validate_x, rf_validate_y))\n",
    "C = time.time()\n",
    "print(C - A,' sec')"
   ]
  },
  {
   "cell_type": "markdown",
   "metadata": {},
   "source": [
    "# --------------------------------------------------------------------------------------------------------------"
   ]
  },
  {
   "cell_type": "markdown",
   "metadata": {},
   "source": [
    "# --------------------------------------------------------------------------------------------------------------"
   ]
  },
  {
   "cell_type": "markdown",
   "metadata": {},
   "source": [
    "# --------------------------------------------------------------------------------------------------------------"
   ]
  },
  {
   "cell_type": "markdown",
   "metadata": {},
   "source": [
    "# Part 4. Model Evaluation"
   ]
  },
  {
   "cell_type": "markdown",
   "metadata": {},
   "source": [
    "#### Test data is the reserved 20% of the whole dataset, and has never been seen by the above models."
   ]
  },
  {
   "cell_type": "markdown",
   "metadata": {},
   "source": [
    "## 4.1 Linear Regression (L)"
   ]
  },
  {
   "cell_type": "code",
   "execution_count": 6,
   "metadata": {},
   "outputs": [
    {
     "name": "stdout",
     "output_type": "stream",
     "text": [
      "L score:  -257137827122899.38\n",
      "Mean square error of L:  1.809571689238277e+20\n",
      "Root mean squared error of L: 13452032148.48328\n"
     ]
    }
   ],
   "source": [
    "from sklearn.model_selection import train_test_split\n",
    "from sklearn.linear_model import LinearRegression, Lasso, Ridge\n",
    "from sklearn.metrics import mean_squared_error, r2_score\n",
    "from math import sqrt\n",
    "\n",
    "L_score = Linear.score(model_test_x, model_test_y)\n",
    "\n",
    "pred_y = Linear.predict(model_test_x)\n",
    "MSE_L = mean_squared_error(model_test_y, pred_y)\n",
    "RMSE_L = sqrt(mean_squared_error(model_test_y, pred_y))\n",
    "\n",
    "# The mean squared error and root mean square error\n",
    "print('L score: ', L_score)\n",
    "print('Mean square error of L: ', MSE_L)\n",
    "print('Root mean squared error of L:', RMSE_L)\n",
    "# print('Coefficients: \\n', ridge_fp.coef_)"
   ]
  },
  {
   "cell_type": "markdown",
   "metadata": {},
   "source": [
    "# --------------------------------------------------------------------------------------------------------------"
   ]
  },
  {
   "cell_type": "markdown",
   "metadata": {},
   "source": [
    "## 4.2 Decision Tree (dt)"
   ]
  },
  {
   "cell_type": "code",
   "execution_count": 11,
   "metadata": {},
   "outputs": [
    {
     "name": "stdout",
     "output_type": "stream",
     "text": [
      "dt score:  0.6033322654016876\n",
      "Mean square error of dt:  279149.4003798644\n",
      "Root mean squared error of dt: 528.3459097786831\n"
     ]
    }
   ],
   "source": [
    "from sklearn.model_selection import train_test_split\n",
    "from sklearn.linear_model import LinearRegression, Lasso, Ridge\n",
    "from sklearn.metrics import mean_squared_error, r2_score\n",
    "from math import sqrt\n",
    "\n",
    "dt_score = Tree.score(model_test_x, model_test_y)\n",
    "\n",
    "pred_y = Tree.predict(model_test_x)\n",
    "MSE_dt = mean_squared_error(model_test_y, pred_y)\n",
    "RMSE_dt = sqrt(mean_squared_error(model_test_y, pred_y))\n",
    "\n",
    "# The mean squared error and root mean square error\n",
    "print('dt score: ', dt_score)\n",
    "print('Mean square error of dt: ', MSE_dt)\n",
    "print('Root mean squared error of dt:', RMSE_dt)\n",
    "# print('Coefficients: \\n', ridge_fp.coef_)"
   ]
  },
  {
   "cell_type": "markdown",
   "metadata": {},
   "source": [
    "# --------------------------------------------------------------------------------------------------------------"
   ]
  },
  {
   "cell_type": "markdown",
   "metadata": {},
   "source": [
    "## 4.3 Random Forest (rf)"
   ]
  },
  {
   "cell_type": "code",
   "execution_count": 6,
   "metadata": {},
   "outputs": [
    {
     "name": "stdout",
     "output_type": "stream",
     "text": [
      "rf score:  0.6098187076023989\n",
      "Mean square error of rf:  274584.6569107219\n",
      "Root mean squared error of rf: 524.008260345886\n"
     ]
    }
   ],
   "source": [
    "from sklearn.model_selection import train_test_split\n",
    "from sklearn.linear_model import LinearRegression, Lasso, Ridge\n",
    "from sklearn.metrics import mean_squared_error, r2_score\n",
    "from math import sqrt\n",
    "\n",
    "rf_score = Forest.score(model_test_x, model_test_y)\n",
    "\n",
    "pred_y = Forest.predict(model_test_x)\n",
    "MSE_rf = mean_squared_error(model_test_y, pred_y)\n",
    "RMSE_rf = sqrt(mean_squared_error(model_test_y, pred_y))\n",
    "\n",
    "# The mean squared error and root mean square error\n",
    "print('rf score: ', rf_score)\n",
    "print('Mean square error of rf: ', MSE_rf)\n",
    "print('Root mean squared error of rf:', RMSE_rf)\n",
    "# print('Coefficients: \\n', ridge_fp.coef_)"
   ]
  },
  {
   "cell_type": "code",
   "execution_count": 9,
   "metadata": {},
   "outputs": [
    {
     "data": {
      "text/plain": [
       "0.6647866526252718"
      ]
     },
     "execution_count": 9,
     "metadata": {},
     "output_type": "execute_result"
    }
   ],
   "source": [
    "Forest.score(model_train_x,model_train_y)"
   ]
  },
  {
   "cell_type": "markdown",
   "metadata": {},
   "source": [
    "# --------------------------------------------------------------------------------------------------------------"
   ]
  },
  {
   "cell_type": "markdown",
   "metadata": {},
   "source": [
    "## 4.4 Comparison of the models"
   ]
  },
  {
   "cell_type": "markdown",
   "metadata": {},
   "source": [
    "#### Compared the max_score, mean squared error (MSE), and root mean squared error (RMSE) of the models.\n",
    "#### Random forest model rf returns the beset prediction accuracy."
   ]
  },
  {
   "cell_type": "code",
   "execution_count": 8,
   "metadata": {},
   "outputs": [
    {
     "name": "stderr",
     "output_type": "stream",
     "text": [
      "No handles with labels found to put in legend.\n"
     ]
    },
    {
     "data": {
      "image/png": "[encoded data removed]",
      "text/plain": [
       "<Figure size 432x288 with 1 Axes>"
      ]
     },
     "metadata": {
      "needs_background": "light"
     },
     "output_type": "display_data"
    },
    {
     "name": "stderr",
     "output_type": "stream",
     "text": [
      "No handles with labels found to put in legend.\n"
     ]
    },
    {
     "data": {
      "image/png": "[encoded data removed]",
      "text/plain": [
       "<Figure size 432x288 with 1 Axes>"
      ]
     },
     "metadata": {
      "needs_background": "light"
     },
     "output_type": "display_data"
    },
    {
     "name": "stderr",
     "output_type": "stream",
     "text": [
      "No handles with labels found to put in legend.\n"
     ]
    },
    {
     "data": {
      "image/png": "[encoded data removed]",
      "text/plain": [
       "<Figure size 432x288 with 1 Axes>"
      ]
     },
     "metadata": {
      "needs_background": "light"
     },
     "output_type": "display_data"
    }
   ],
   "source": [
    "lst_score = [0.6033322654016876, 0.6098187076023989]\n",
    "MSE_lst =  [279149.4003798644, 274584.6569107219]\n",
    "RMSE_lst =  [528.3459097786831, 524.008260345886]\n",
    "model_lst = ['Decision tree', 'Random forest']\n",
    "\n",
    "plt.figure(1)\n",
    "plt.plot(model_lst, lst_score, 'ro')\n",
    "plt.legend(loc = 9)\n",
    "plt.legend(['r-squre / score'])\n",
    "plt.xlabel('model names',fontsize =16)\n",
    "plt.ylabel('score / r square', fontsize =16)\n",
    "plt.grid(True)\n",
    "plt.show()\n",
    "\n",
    "plt.figure(2)\n",
    "plt.plot(model_lst, MSE_lst, 'g^')\n",
    "plt.legend(loc = 9)\n",
    "plt.legend(['mean square error (MSE)'])\n",
    "plt.xlabel('model names', fontsize =16)\n",
    "plt.ylabel('mean square error', fontsize =16)\n",
    "plt.grid(True)\n",
    "plt.show()\n",
    "\n",
    "plt.figure(3)\n",
    "plt.plot(model_lst, RMSE_lst, 'bs')\n",
    "plt.legend(loc = 9)\n",
    "plt.legend(['root mean square error (RMSE)'])\n",
    "plt.xlabel('model names', fontsize =16)\n",
    "plt.ylabel('root mean square error', fontsize =16)\n",
    "plt.grid(True)\n",
    "plt.show()"
   ]
  },
  {
   "cell_type": "code",
   "execution_count": 11,
   "metadata": {},
   "outputs": [
    {
     "data": {
      "text/plain": [
       "['RF.joblib']"
      ]
     },
     "execution_count": 11,
     "metadata": {},
     "output_type": "execute_result"
    }
   ],
   "source": [
    "from joblib import dump\n",
    "dump(Forest,'RF.joblib')"
   ]
  },
  {
   "cell_type": "markdown",
   "metadata": {},
   "source": [
    "#### As can be seen from the results of the test sets, the random forest ranks the first place. I will use it for the prediction."
   ]
  }
 ],
 "metadata": {
  "kernelspec": {
   "display_name": "Python 3",
   "language": "python",
   "name": "python3"
  },
  "language_info": {
   "codemirror_mode": {
    "name": "ipython",
    "version": 3
   },
   "file_extension": ".py",
   "mimetype": "text/x-python",
   "name": "python",
   "nbconvert_exporter": "python",
   "pygments_lexer": "ipython3",
   "version": "3.7.2"
  }
 },
 "nbformat": 4,
 "nbformat_minor": 2
}
