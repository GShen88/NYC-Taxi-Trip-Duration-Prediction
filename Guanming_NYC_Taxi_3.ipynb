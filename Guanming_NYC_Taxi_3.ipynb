{
 "cells": [
  {
   "cell_type": "markdown",
   "metadata": {},
   "source": [
    "# Part 5. Trip Duration Prediction\n",
    "\n",
    "####  Now that I've already built the model, let's predict trip duration by inputting the weekday, pickup location ID and destination(dropoff) location ID."
   ]
  },
  {
   "cell_type": "code",
   "execution_count": 1,
   "metadata": {},
   "outputs": [],
   "source": [
    "def prediction():\n",
    "    from joblib import load\n",
    "    Forest = load('RF.joblib')\n",
    "    import numpy as np\n",
    "    OneHot = np.load('one_hot.npz')\n",
    "    \n",
    "    w = input(\"Input weekday (From Monday to Sunday): \")\n",
    "    pic = int(input(\"Input pickup ID (From 1 - 265): \"))\n",
    "    drp = int(input(\"Input dropoff ID (From 1 - 265): \"))\n",
    "    \n",
    "    \n",
    "    \n",
    "    weekday = OneHot['weekday_list'].tolist()\n",
    "    pickup = OneHot['pickup_list'].tolist()\n",
    "    dropoff = OneHot['dropoff_list'].tolist()\n",
    "    \n",
    "    w_listofzeros = [0] * 7\n",
    "    p_listofzeros = [0] * 246\n",
    "    d_listofzeros = [0] * 261\n",
    "    \n",
    "    w_listofzeros[weekday.index(w)] = 1\n",
    "    p_listofzeros[pickup.index(pic)] = 1\n",
    "    d_listofzeros[dropoff.index(drp)] = 1\n",
    "    \n",
    "    model_input=np.asarray(w_listofzeros + p_listofzeros + d_listofzeros)\n",
    "    model_input = model_input.reshape((1,-1))\n",
    "    \n",
    "    return Forest.predict(model_input)"
   ]
  },
  {
   "cell_type": "code",
   "execution_count": 5,
   "metadata": {
    "scrolled": false
   },
   "outputs": [
    {
     "name": "stdout",
     "output_type": "stream",
     "text": [
      "Input weekday (From Monday to Sunday): Sunday\n",
      "Input pickup ID (From 1 - 265): 212\n",
      "Input dropoff ID (From 1 - 265): 23\n",
      "According to the given weekday name, pickup location ID and dropoff location ID, it will take approximately [960.42333333] seconds to get to your destination during the rush hour(5:00:00pm - 7:59:59pm) in June.\n"
     ]
    }
   ],
   "source": [
    "print(\"According to the given weekday name, pickup location ID and dropoff location ID, it will take approximately\",prediction(),\"seconds to get to your destination during the rush hour(5:00:00pm - 7:59:59pm) in June.\")"
   ]
  },
  {
   "cell_type": "code",
   "execution_count": 2,
   "metadata": {},
   "outputs": [
    {
     "name": "stdout",
     "output_type": "stream",
     "text": [
      "Input weekday (From Monday to Sunday): Tuesday\n",
      "Input pickup ID (From 1 - 265): 20\n",
      "Input dropoff ID (From 1 - 265): 50\n",
      "According to the given weekday name, pickup location ID and dropoff location ID, it will take approximately [1340.27321429] seconds to get to your destination during the rush hour(5:00:00pm - 7:59:59pm) in June.\n"
     ]
    }
   ],
   "source": [
    "print(\"According to the given weekday name, pickup location ID and dropoff location ID, it will take approximately\",prediction(),\"seconds to get to your destination during the rush hour(5:00:00pm - 7:59:59pm) in June.\")"
   ]
  },
  {
   "cell_type": "code",
   "execution_count": 3,
   "metadata": {},
   "outputs": [
    {
     "name": "stdout",
     "output_type": "stream",
     "text": [
      "Input weekday (From Monday to Sunday): Monday\n",
      "Input pickup ID (From 1 - 265): 89\n",
      "Input dropoff ID (From 1 - 265): 201\n",
      "According to the given weekday name, pickup location ID and dropoff location ID, it will take approximately [1211.] seconds to get to your destination during the rush hour(5:00:00pm - 7:59:59pm) in June.\n"
     ]
    }
   ],
   "source": [
    "print(\"According to the given weekday name, pickup location ID and dropoff location ID, it will take approximately\",prediction(),\"seconds to get to your destination during the rush hour(5:00:00pm - 7:59:59pm) in June.\")"
   ]
  },
  {
   "cell_type": "code",
   "execution_count": 4,
   "metadata": {},
   "outputs": [
    {
     "name": "stdout",
     "output_type": "stream",
     "text": [
      "Input weekday (From Monday to Sunday): Saturday\n",
      "Input pickup ID (From 1 - 265): 40\n",
      "Input dropoff ID (From 1 - 265): 90\n",
      "According to the given weekday name, pickup location ID and dropoff location ID, it will take approximately [1114.43903072] seconds to get to your destination during the rush hour(5:00:00pm - 7:59:59pm) in June.\n"
     ]
    }
   ],
   "source": [
    "print(\"According to the given weekday name, pickup location ID and dropoff location ID, it will take approximately\",prediction(),\"seconds to get to your destination during the rush hour(5:00:00pm - 7:59:59pm) in June.\")"
   ]
  }
 ],
 "metadata": {
  "kernelspec": {
   "display_name": "Python 3",
   "language": "python",
   "name": "python3"
  },
  "language_info": {
   "codemirror_mode": {
    "name": "ipython",
    "version": 3
   },
   "file_extension": ".py",
   "mimetype": "text/x-python",
   "name": "python",
   "nbconvert_exporter": "python",
   "pygments_lexer": "ipython3",
   "version": "3.7.2"
  }
 },
 "nbformat": 4,
 "nbformat_minor": 2
}
