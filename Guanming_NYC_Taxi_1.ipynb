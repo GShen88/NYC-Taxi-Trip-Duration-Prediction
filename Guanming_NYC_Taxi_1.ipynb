{
 "cells": [
  {
   "cell_type": "markdown",
   "metadata": {},
   "source": [
    "# Import data"
   ]
  },
  {
   "cell_type": "code",
   "execution_count": 2,
   "metadata": {},
   "outputs": [],
   "source": [
    "#@title import packages\n",
    "import numpy as np\n",
    "import pandas as pd\n",
    "import matplotlib.pyplot as plt\n",
    "import datetime\n",
    "from datetime import date\n",
    "import seaborn as sns\n",
    "import sklearn as sl\n",
    "from sklearn import preprocessing"
   ]
  },
  {
   "cell_type": "code",
   "execution_count": 3,
   "metadata": {},
   "outputs": [],
   "source": [
    "# read data from csv file\n",
    "df = pd.read_csv(\"yellow_tripdata_2018-06.csv\") "
   ]
  },
  {
   "cell_type": "code",
   "execution_count": 4,
   "metadata": {},
   "outputs": [
    {
     "data": {
      "text/html": [
       "<div>\n",
       "<style scoped>\n",
       "    .dataframe tbody tr th:only-of-type {\n",
       "        vertical-align: middle;\n",
       "    }\n",
       "\n",
       "    .dataframe tbody tr th {\n",
       "        vertical-align: top;\n",
       "    }\n",
       "\n",
       "    .dataframe thead th {\n",
       "        text-align: right;\n",
       "    }\n",
       "</style>\n",
       "<table border=\"1\" class=\"dataframe\">\n",
       "  <thead>\n",
       "    <tr style=\"text-align: right;\">\n",
       "      <th></th>\n",
       "      <th>VendorID</th>\n",
       "      <th>tpep_pickup_datetime</th>\n",
       "      <th>tpep_dropoff_datetime</th>\n",
       "      <th>passenger_count</th>\n",
       "      <th>trip_distance</th>\n",
       "      <th>RatecodeID</th>\n",
       "      <th>store_and_fwd_flag</th>\n",
       "      <th>PULocationID</th>\n",
       "      <th>DOLocationID</th>\n",
       "      <th>payment_type</th>\n",
       "      <th>fare_amount</th>\n",
       "      <th>extra</th>\n",
       "      <th>mta_tax</th>\n",
       "      <th>tip_amount</th>\n",
       "      <th>tolls_amount</th>\n",
       "      <th>improvement_surcharge</th>\n",
       "      <th>total_amount</th>\n",
       "    </tr>\n",
       "  </thead>\n",
       "  <tbody>\n",
       "    <tr>\n",
       "      <th>0</th>\n",
       "      <td>1</td>\n",
       "      <td>2018-06-01 00:15:40</td>\n",
       "      <td>2018-06-01 00:16:46</td>\n",
       "      <td>1</td>\n",
       "      <td>0.0</td>\n",
       "      <td>1</td>\n",
       "      <td>N</td>\n",
       "      <td>145</td>\n",
       "      <td>145</td>\n",
       "      <td>2</td>\n",
       "      <td>3.0</td>\n",
       "      <td>0.5</td>\n",
       "      <td>0.5</td>\n",
       "      <td>0.00</td>\n",
       "      <td>0.0</td>\n",
       "      <td>0.3</td>\n",
       "      <td>4.30</td>\n",
       "    </tr>\n",
       "    <tr>\n",
       "      <th>1</th>\n",
       "      <td>1</td>\n",
       "      <td>2018-06-01 00:04:18</td>\n",
       "      <td>2018-06-01 00:09:18</td>\n",
       "      <td>1</td>\n",
       "      <td>1.0</td>\n",
       "      <td>1</td>\n",
       "      <td>N</td>\n",
       "      <td>230</td>\n",
       "      <td>161</td>\n",
       "      <td>1</td>\n",
       "      <td>5.5</td>\n",
       "      <td>0.5</td>\n",
       "      <td>0.5</td>\n",
       "      <td>1.35</td>\n",
       "      <td>0.0</td>\n",
       "      <td>0.3</td>\n",
       "      <td>8.15</td>\n",
       "    </tr>\n",
       "    <tr>\n",
       "      <th>2</th>\n",
       "      <td>1</td>\n",
       "      <td>2018-06-01 00:14:39</td>\n",
       "      <td>2018-06-01 00:29:46</td>\n",
       "      <td>1</td>\n",
       "      <td>3.3</td>\n",
       "      <td>1</td>\n",
       "      <td>N</td>\n",
       "      <td>100</td>\n",
       "      <td>263</td>\n",
       "      <td>2</td>\n",
       "      <td>13.0</td>\n",
       "      <td>0.5</td>\n",
       "      <td>0.5</td>\n",
       "      <td>0.00</td>\n",
       "      <td>0.0</td>\n",
       "      <td>0.3</td>\n",
       "      <td>14.30</td>\n",
       "    </tr>\n",
       "    <tr>\n",
       "      <th>3</th>\n",
       "      <td>1</td>\n",
       "      <td>2018-06-01 00:51:25</td>\n",
       "      <td>2018-06-01 00:51:29</td>\n",
       "      <td>3</td>\n",
       "      <td>0.0</td>\n",
       "      <td>1</td>\n",
       "      <td>N</td>\n",
       "      <td>145</td>\n",
       "      <td>145</td>\n",
       "      <td>2</td>\n",
       "      <td>2.5</td>\n",
       "      <td>0.5</td>\n",
       "      <td>0.5</td>\n",
       "      <td>0.00</td>\n",
       "      <td>0.0</td>\n",
       "      <td>0.3</td>\n",
       "      <td>3.80</td>\n",
       "    </tr>\n",
       "    <tr>\n",
       "      <th>4</th>\n",
       "      <td>1</td>\n",
       "      <td>2018-06-01 00:55:06</td>\n",
       "      <td>2018-06-01 00:55:10</td>\n",
       "      <td>1</td>\n",
       "      <td>0.0</td>\n",
       "      <td>1</td>\n",
       "      <td>N</td>\n",
       "      <td>145</td>\n",
       "      <td>145</td>\n",
       "      <td>2</td>\n",
       "      <td>2.5</td>\n",
       "      <td>0.5</td>\n",
       "      <td>0.5</td>\n",
       "      <td>0.00</td>\n",
       "      <td>0.0</td>\n",
       "      <td>0.3</td>\n",
       "      <td>3.80</td>\n",
       "    </tr>\n",
       "  </tbody>\n",
       "</table>\n",
       "</div>"
      ],
      "text/plain": [
       "   VendorID tpep_pickup_datetime tpep_dropoff_datetime  passenger_count  \\\n",
       "0         1  2018-06-01 00:15:40   2018-06-01 00:16:46                1   \n",
       "1         1  2018-06-01 00:04:18   2018-06-01 00:09:18                1   \n",
       "2         1  2018-06-01 00:14:39   2018-06-01 00:29:46                1   \n",
       "3         1  2018-06-01 00:51:25   2018-06-01 00:51:29                3   \n",
       "4         1  2018-06-01 00:55:06   2018-06-01 00:55:10                1   \n",
       "\n",
       "   trip_distance  RatecodeID store_and_fwd_flag  PULocationID  DOLocationID  \\\n",
       "0            0.0           1                  N           145           145   \n",
       "1            1.0           1                  N           230           161   \n",
       "2            3.3           1                  N           100           263   \n",
       "3            0.0           1                  N           145           145   \n",
       "4            0.0           1                  N           145           145   \n",
       "\n",
       "   payment_type  fare_amount  extra  mta_tax  tip_amount  tolls_amount  \\\n",
       "0             2          3.0    0.5      0.5        0.00           0.0   \n",
       "1             1          5.5    0.5      0.5        1.35           0.0   \n",
       "2             2         13.0    0.5      0.5        0.00           0.0   \n",
       "3             2          2.5    0.5      0.5        0.00           0.0   \n",
       "4             2          2.5    0.5      0.5        0.00           0.0   \n",
       "\n",
       "   improvement_surcharge  total_amount  \n",
       "0                    0.3          4.30  \n",
       "1                    0.3          8.15  \n",
       "2                    0.3         14.30  \n",
       "3                    0.3          3.80  \n",
       "4                    0.3          3.80  "
      ]
     },
     "execution_count": 4,
     "metadata": {},
     "output_type": "execute_result"
    }
   ],
   "source": [
    "df.head()"
   ]
  },
  {
   "cell_type": "code",
   "execution_count": 5,
   "metadata": {},
   "outputs": [
    {
     "data": {
      "text/plain": [
       "(8713831, 17)"
      ]
     },
     "execution_count": 5,
     "metadata": {},
     "output_type": "execute_result"
    }
   ],
   "source": [
    "df.shape"
   ]
  },
  {
   "cell_type": "code",
   "execution_count": 6,
   "metadata": {},
   "outputs": [
    {
     "name": "stdout",
     "output_type": "stream",
     "text": [
      "<class 'pandas.core.frame.DataFrame'>\n",
      "RangeIndex: 8713831 entries, 0 to 8713830\n",
      "Data columns (total 17 columns):\n",
      "VendorID                 int64\n",
      "tpep_pickup_datetime     object\n",
      "tpep_dropoff_datetime    object\n",
      "passenger_count          int64\n",
      "trip_distance            float64\n",
      "RatecodeID               int64\n",
      "store_and_fwd_flag       object\n",
      "PULocationID             int64\n",
      "DOLocationID             int64\n",
      "payment_type             int64\n",
      "fare_amount              float64\n",
      "extra                    float64\n",
      "mta_tax                  float64\n",
      "tip_amount               float64\n",
      "tolls_amount             float64\n",
      "improvement_surcharge    float64\n",
      "total_amount             float64\n",
      "dtypes: float64(8), int64(6), object(3)\n",
      "memory usage: 1.1+ GB\n"
     ]
    }
   ],
   "source": [
    "df.info()"
   ]
  },
  {
   "cell_type": "markdown",
   "metadata": {},
   "source": [
    "# --------------------------------------------------------------------------------------------------------------"
   ]
  },
  {
   "cell_type": "markdown",
   "metadata": {},
   "source": [
    "# --------------------------------------------------------------------------------------------------------------"
   ]
  },
  {
   "cell_type": "markdown",
   "metadata": {},
   "source": [
    "# --------------------------------------------------------------------------------------------------------------"
   ]
  },
  {
   "cell_type": "markdown",
   "metadata": {},
   "source": [
    "# Part 1. Data Exploration"
   ]
  },
  {
   "cell_type": "markdown",
   "metadata": {},
   "source": [
    "## 1.1 passenger_count\n",
    "### (The number of passengers in the vehicle. This is a driver-entered value.)"
   ]
  },
  {
   "cell_type": "code",
   "execution_count": 7,
   "metadata": {},
   "outputs": [
    {
     "data": {
      "text/plain": [
       "1    6203828\n",
       "2    1273967\n",
       "5     387890\n",
       "3     362522\n",
       "6     240939\n",
       "4     173885\n",
       "0      70722\n",
       "9         29\n",
       "7         27\n",
       "8         22\n",
       "Name: passenger_count, dtype: int64"
      ]
     },
     "execution_count": 7,
     "metadata": {},
     "output_type": "execute_result"
    }
   ],
   "source": [
    "df['passenger_count'].value_counts()"
   ]
  },
  {
   "cell_type": "code",
   "execution_count": 7,
   "metadata": {},
   "outputs": [],
   "source": [
    "# x --- passenger_count (which is the number of passengers)\n",
    "# y --- count(passenger_count)\n",
    "# sns.set_palette(\"pastel\")\n",
    "# plt.figure(figsize=(12,8))\n",
    "# sns.countplot(x=\"passenger_count\", data=df)\n",
    "# plt.show()"
   ]
  },
  {
   "cell_type": "code",
   "execution_count": 8,
   "metadata": {},
   "outputs": [
    {
     "data": {
      "image/png": "[encoded data removed]",
      "text/plain": [
       "<Figure size 864x576 with 1 Axes>"
      ]
     },
     "metadata": {
      "needs_background": "light"
     },
     "output_type": "display_data"
    }
   ],
   "source": [
    "plt.figure(figsize=(12,8))\n",
    "sns.countplot(x=\"passenger_count\", data=df, log=True)\n",
    "plt.show()"
   ]
  },
  {
   "cell_type": "markdown",
   "metadata": {},
   "source": [
    "# --------------------------------------------------------------------------------------------------------------"
   ]
  },
  {
   "cell_type": "markdown",
   "metadata": {},
   "source": [
    "## 1.2 VendorID\n",
    "### (A code indicating the TPEP provider that provided the record)\n",
    "### (1= Creative Mobile Technologies, LLC; 2= VeriFone Inc)"
   ]
  },
  {
   "cell_type": "code",
   "execution_count": 9,
   "metadata": {},
   "outputs": [
    {
     "data": {
      "text/plain": [
       "2    5012778\n",
       "1    3699955\n",
       "4       1098\n",
       "Name: VendorID, dtype: int64"
      ]
     },
     "execution_count": 9,
     "metadata": {},
     "output_type": "execute_result"
    }
   ],
   "source": [
    "df['VendorID'].value_counts()"
   ]
  },
  {
   "cell_type": "code",
   "execution_count": 10,
   "metadata": {},
   "outputs": [
    {
     "data": {
      "image/png": "[encoded data removed]",
      "text/plain": [
       "<Figure size 864x576 with 1 Axes>"
      ]
     },
     "metadata": {
      "needs_background": "light"
     },
     "output_type": "display_data"
    }
   ],
   "source": [
    "# x --- VendorID (which is supposed to have 1&2)\n",
    "# y --- count(VendorID)\n",
    "sns.set_palette(\"pastel\")\n",
    "plt.figure(figsize=(12,8))\n",
    "sns.countplot(x=\"VendorID\", data=df, log=True)\n",
    "plt.show()\n"
   ]
  },
  {
   "cell_type": "markdown",
   "metadata": {},
   "source": [
    "#### There should be only '1'&'2' two categories in the column according to the data_dictionary_trip_records_yellow.pdf file. \n",
    "#### However, there is another one '4' in the VendorID column.\n",
    "#### My guess is that the pdf file of the data dictionary wasn't updated in time and there was another new TPEP provider came into play."
   ]
  },
  {
   "cell_type": "markdown",
   "metadata": {},
   "source": [
    "# --------------------------------------------------------------------------------------------------------------"
   ]
  },
  {
   "cell_type": "markdown",
   "metadata": {},
   "source": [
    "## 1.3 store_and_fwd_flag\n",
    "### (This flag indicates whether the trip record was held in vehicle memory before sending to the vendor, aka “store and forward,” because the vehicle did not have a connection to the server. Y= store and forward trip / N= not a store and forward trip)"
   ]
  },
  {
   "cell_type": "code",
   "execution_count": 11,
   "metadata": {},
   "outputs": [
    {
     "data": {
      "text/plain": [
       "N    8682688\n",
       "Y      31143\n",
       "Name: store_and_fwd_flag, dtype: int64"
      ]
     },
     "execution_count": 11,
     "metadata": {},
     "output_type": "execute_result"
    }
   ],
   "source": [
    "df['store_and_fwd_flag'].value_counts()"
   ]
  },
  {
   "cell_type": "code",
   "execution_count": 12,
   "metadata": {},
   "outputs": [
    {
     "data": {
      "image/png": "[encoded data removed]",
      "text/plain": [
       "<Figure size 864x576 with 1 Axes>"
      ]
     },
     "metadata": {
      "needs_background": "light"
     },
     "output_type": "display_data"
    }
   ],
   "source": [
    "# x --- store_and_fwd_flag (which is supposed to have 'N' & 'Y')\n",
    "# y --- count(store_and_fwd_flag)\n",
    "sns.set_palette(\"pastel\")\n",
    "fig = plt.figure(figsize=(12,8))\n",
    "sns.countplot(x=\"store_and_fwd_flag\", data=df, log=True)\n",
    "plt.show()"
   ]
  },
  {
   "cell_type": "markdown",
   "metadata": {},
   "source": [
    "#### There is no outlier in this column."
   ]
  },
  {
   "cell_type": "markdown",
   "metadata": {},
   "source": [
    "# --------------------------------------------------------------------------------------------------------------"
   ]
  },
  {
   "cell_type": "markdown",
   "metadata": {},
   "source": [
    "## 1.4 RatecodeID\t\n",
    "### (The final rate code in effect at the end of the trip. 1= Standard rate 2=JFK 3=Newark 4=Nassau or Westchester 5=Negotiated fare 6=Group ride)"
   ]
  },
  {
   "cell_type": "code",
   "execution_count": 13,
   "metadata": {},
   "outputs": [
    {
     "data": {
      "text/plain": [
       "1     8448152\n",
       "2      211382\n",
       "5       29629\n",
       "3       18935\n",
       "4        5504\n",
       "99        159\n",
       "6          70\n",
       "Name: RatecodeID, dtype: int64"
      ]
     },
     "execution_count": 13,
     "metadata": {},
     "output_type": "execute_result"
    }
   ],
   "source": [
    "df['RatecodeID'].value_counts()"
   ]
  },
  {
   "cell_type": "code",
   "execution_count": 14,
   "metadata": {},
   "outputs": [
    {
     "data": {
      "image/png": "[encoded data removed]",
      "text/plain": [
       "<Figure size 864x576 with 1 Axes>"
      ]
     },
     "metadata": {
      "needs_background": "light"
     },
     "output_type": "display_data"
    }
   ],
   "source": [
    "# x --- RatecodeID (which is supposed to be in 1-6)\n",
    "# y --- count(RatecodeID)\n",
    "sns.set_palette(\"pastel\")\n",
    "fig = plt.figure(figsize=(12,8))\n",
    "sns.countplot(x=\"RatecodeID\", data=df, log=True)\n",
    "plt.show()"
   ]
  },
  {
   "cell_type": "markdown",
   "metadata": {},
   "source": [
    "#### I found another kind of RatecodeID '99' which was not included in the description of the dataset, which would be considered as outlier."
   ]
  },
  {
   "cell_type": "markdown",
   "metadata": {},
   "source": [
    "# --------------------------------------------------------------------------------------------------------------"
   ]
  },
  {
   "cell_type": "markdown",
   "metadata": {},
   "source": [
    "## 1.5 Day of the week\n",
    "### (Monday/Tuesday/Wednesday/Thursday/Friday/Saturday/Sunday)"
   ]
  },
  {
   "cell_type": "code",
   "execution_count": 15,
   "metadata": {},
   "outputs": [],
   "source": [
    "df['tpep_pickup_datetime'] = pd.to_datetime(df.tpep_pickup_datetime)\n",
    "df['tpep_dropoff_datetime'] = pd.to_datetime(df.tpep_dropoff_datetime)"
   ]
  },
  {
   "cell_type": "code",
   "execution_count": 16,
   "metadata": {},
   "outputs": [],
   "source": [
    "df[\"pickup_weekday_name\"] = df.tpep_pickup_datetime.dt.weekday_name"
   ]
  },
  {
   "cell_type": "code",
   "execution_count": 17,
   "metadata": {},
   "outputs": [
    {
     "data": {
      "image/png": "[encoded data removed]",
      "text/plain": [
       "<Figure size 864x576 with 1 Axes>"
      ]
     },
     "metadata": {
      "needs_background": "light"
     },
     "output_type": "display_data"
    }
   ],
   "source": [
    "plt.figure(figsize=(12,8))\n",
    "sns.countplot(x=\"pickup_weekday_name\", data=df)\n",
    "plt.show()"
   ]
  },
  {
   "cell_type": "markdown",
   "metadata": {},
   "source": [
    "#### As can be seen from the plot, the usage of the yellow cab reached its peak on Friday followed by Saturday in June 2018."
   ]
  },
  {
   "cell_type": "markdown",
   "metadata": {},
   "source": [
    "# --------------------------------------------------------------------------------------------------------------"
   ]
  },
  {
   "cell_type": "markdown",
   "metadata": {},
   "source": [
    "## 1.6 pickup/dropoff hour of the day (0-23)"
   ]
  },
  {
   "cell_type": "code",
   "execution_count": 18,
   "metadata": {},
   "outputs": [],
   "source": [
    "df[\"pickup_hour\"] = df.tpep_pickup_datetime.dt.hour\n",
    "df[\"dropoff_hour\"] = df.tpep_dropoff_datetime.dt.hour"
   ]
  },
  {
   "cell_type": "code",
   "execution_count": 19,
   "metadata": {},
   "outputs": [
    {
     "data": {
      "image/png": "[encoded data removed]",
      "text/plain": [
       "<Figure size 864x576 with 1 Axes>"
      ]
     },
     "metadata": {
      "needs_background": "light"
     },
     "output_type": "display_data"
    },
    {
     "data": {
      "image/png": "[encoded data removed]",
      "text/plain": [
       "<Figure size 864x576 with 1 Axes>"
      ]
     },
     "metadata": {
      "needs_background": "light"
     },
     "output_type": "display_data"
    }
   ],
   "source": [
    "plt.figure(figsize=(12,8))\n",
    "sns.countplot(x=\"pickup_hour\", data=df)\n",
    "plt.show()\n",
    "plt.figure(figsize=(12,8))\n",
    "sns.countplot(x=\"dropoff_hour\", data=df)\n",
    "plt.show()"
   ]
  },
  {
   "cell_type": "code",
   "execution_count": 26,
   "metadata": {},
   "outputs": [],
   "source": [
    "# fig, ax = plt.subplots(figsize=(12,8))\n",
    "# sns.countplot(x=\"pickup_hour\", data=df, ax=ax, facecolor=(0, 0, 0, 0), edgecolor=sns.color_palette(\"bright\", 24))\n",
    "# sns.countplot(x=\"dropoff_hour\", data=df, ax=ax, facecolor=(0, 0, 0, 0), edgecolor=\"black\")"
   ]
  },
  {
   "cell_type": "code",
   "execution_count": 20,
   "metadata": {},
   "outputs": [
    {
     "data": {
      "text/plain": [
       "<matplotlib.legend.Legend at 0x2ab80136da0>"
      ]
     },
     "execution_count": 20,
     "metadata": {},
     "output_type": "execute_result"
    },
    {
     "data": {
      "image/png": "[encoded data removed]",
      "text/plain": [
       "<Figure size 432x288 with 1 Axes>"
      ]
     },
     "metadata": {
      "needs_background": "light"
     },
     "output_type": "display_data"
    }
   ],
   "source": [
    "ax=df.groupby(['pickup_hour']).count().reset_index().plot.scatter(y='VendorID',x='pickup_hour',rot=1,color='orange',legend=True)\n",
    "ax=df.groupby(['dropoff_hour']).count().reset_index().plot.scatter(rot=1,y='VendorID',x='dropoff_hour',ax=ax,color='green',legend=True)\n",
    "ax.set_xlabel('hour')\n",
    "ax.set_ylabel('count')\n",
    "ax.legend(['pickup_hour','dropoff_hour'])"
   ]
  },
  {
   "cell_type": "markdown",
   "metadata": {},
   "source": [
    "#### The picking up amount of the yellow cab reached its peak at 6 PM while the dropping off amount of the yellow cab reached its peak at 7 PM."
   ]
  },
  {
   "cell_type": "markdown",
   "metadata": {},
   "source": [
    "# --------------------------------------------------------------------------------------------------------------"
   ]
  },
  {
   "cell_type": "markdown",
   "metadata": {},
   "source": [
    "## 1.7 trip_distance\n",
    "### (The elapsed trip distance in miles reported by the taximeter)"
   ]
  },
  {
   "cell_type": "code",
   "execution_count": 21,
   "metadata": {},
   "outputs": [
    {
     "data": {
      "image/png": "[encoded data removed]",
      "text/plain": [
       "<Figure size 864x576 with 1 Axes>"
      ]
     },
     "metadata": {
      "needs_background": "light"
     },
     "output_type": "display_data"
    }
   ],
   "source": [
    "# x --- pickup_hour\n",
    "# y --- trip_distance\n",
    "sns.set_palette(\"pastel\")\n",
    "fig = plt.figure(figsize=(12,8))\n",
    "#sns.catplot(x=\"pickup_hour\",y='trip_distance',data=df)\n",
    "sns.boxenplot(x=\"pickup_hour\",y='trip_distance',data=df,color='green')\n",
    "plt.show()"
   ]
  },
  {
   "cell_type": "code",
   "execution_count": 22,
   "metadata": {},
   "outputs": [
    {
     "data": {
      "text/html": [
       "<div>\n",
       "<style scoped>\n",
       "    .dataframe tbody tr th:only-of-type {\n",
       "        vertical-align: middle;\n",
       "    }\n",
       "\n",
       "    .dataframe tbody tr th {\n",
       "        vertical-align: top;\n",
       "    }\n",
       "\n",
       "    .dataframe thead th {\n",
       "        text-align: right;\n",
       "    }\n",
       "</style>\n",
       "<table border=\"1\" class=\"dataframe\">\n",
       "  <thead>\n",
       "    <tr style=\"text-align: right;\">\n",
       "      <th></th>\n",
       "      <th>VendorID</th>\n",
       "      <th>tpep_pickup_datetime</th>\n",
       "      <th>tpep_dropoff_datetime</th>\n",
       "      <th>passenger_count</th>\n",
       "      <th>trip_distance</th>\n",
       "      <th>RatecodeID</th>\n",
       "      <th>store_and_fwd_flag</th>\n",
       "      <th>PULocationID</th>\n",
       "      <th>DOLocationID</th>\n",
       "      <th>payment_type</th>\n",
       "      <th>fare_amount</th>\n",
       "      <th>extra</th>\n",
       "      <th>mta_tax</th>\n",
       "      <th>tip_amount</th>\n",
       "      <th>tolls_amount</th>\n",
       "      <th>improvement_surcharge</th>\n",
       "      <th>total_amount</th>\n",
       "      <th>pickup_weekday_name</th>\n",
       "      <th>pickup_hour</th>\n",
       "      <th>dropoff_hour</th>\n",
       "    </tr>\n",
       "  </thead>\n",
       "  <tbody>\n",
       "    <tr>\n",
       "      <th>0</th>\n",
       "      <td>1</td>\n",
       "      <td>2018-06-01 00:15:40</td>\n",
       "      <td>2018-06-01 00:16:46</td>\n",
       "      <td>1</td>\n",
       "      <td>0.0</td>\n",
       "      <td>1</td>\n",
       "      <td>N</td>\n",
       "      <td>145</td>\n",
       "      <td>145</td>\n",
       "      <td>2</td>\n",
       "      <td>3.0</td>\n",
       "      <td>0.5</td>\n",
       "      <td>0.5</td>\n",
       "      <td>0.00</td>\n",
       "      <td>0.0</td>\n",
       "      <td>0.3</td>\n",
       "      <td>4.30</td>\n",
       "      <td>Friday</td>\n",
       "      <td>0</td>\n",
       "      <td>0</td>\n",
       "    </tr>\n",
       "    <tr>\n",
       "      <th>1</th>\n",
       "      <td>1</td>\n",
       "      <td>2018-06-01 00:04:18</td>\n",
       "      <td>2018-06-01 00:09:18</td>\n",
       "      <td>1</td>\n",
       "      <td>1.0</td>\n",
       "      <td>1</td>\n",
       "      <td>N</td>\n",
       "      <td>230</td>\n",
       "      <td>161</td>\n",
       "      <td>1</td>\n",
       "      <td>5.5</td>\n",
       "      <td>0.5</td>\n",
       "      <td>0.5</td>\n",
       "      <td>1.35</td>\n",
       "      <td>0.0</td>\n",
       "      <td>0.3</td>\n",
       "      <td>8.15</td>\n",
       "      <td>Friday</td>\n",
       "      <td>0</td>\n",
       "      <td>0</td>\n",
       "    </tr>\n",
       "    <tr>\n",
       "      <th>2</th>\n",
       "      <td>1</td>\n",
       "      <td>2018-06-01 00:14:39</td>\n",
       "      <td>2018-06-01 00:29:46</td>\n",
       "      <td>1</td>\n",
       "      <td>3.3</td>\n",
       "      <td>1</td>\n",
       "      <td>N</td>\n",
       "      <td>100</td>\n",
       "      <td>263</td>\n",
       "      <td>2</td>\n",
       "      <td>13.0</td>\n",
       "      <td>0.5</td>\n",
       "      <td>0.5</td>\n",
       "      <td>0.00</td>\n",
       "      <td>0.0</td>\n",
       "      <td>0.3</td>\n",
       "      <td>14.30</td>\n",
       "      <td>Friday</td>\n",
       "      <td>0</td>\n",
       "      <td>0</td>\n",
       "    </tr>\n",
       "    <tr>\n",
       "      <th>3</th>\n",
       "      <td>1</td>\n",
       "      <td>2018-06-01 00:51:25</td>\n",
       "      <td>2018-06-01 00:51:29</td>\n",
       "      <td>3</td>\n",
       "      <td>0.0</td>\n",
       "      <td>1</td>\n",
       "      <td>N</td>\n",
       "      <td>145</td>\n",
       "      <td>145</td>\n",
       "      <td>2</td>\n",
       "      <td>2.5</td>\n",
       "      <td>0.5</td>\n",
       "      <td>0.5</td>\n",
       "      <td>0.00</td>\n",
       "      <td>0.0</td>\n",
       "      <td>0.3</td>\n",
       "      <td>3.80</td>\n",
       "      <td>Friday</td>\n",
       "      <td>0</td>\n",
       "      <td>0</td>\n",
       "    </tr>\n",
       "    <tr>\n",
       "      <th>4</th>\n",
       "      <td>1</td>\n",
       "      <td>2018-06-01 00:55:06</td>\n",
       "      <td>2018-06-01 00:55:10</td>\n",
       "      <td>1</td>\n",
       "      <td>0.0</td>\n",
       "      <td>1</td>\n",
       "      <td>N</td>\n",
       "      <td>145</td>\n",
       "      <td>145</td>\n",
       "      <td>2</td>\n",
       "      <td>2.5</td>\n",
       "      <td>0.5</td>\n",
       "      <td>0.5</td>\n",
       "      <td>0.00</td>\n",
       "      <td>0.0</td>\n",
       "      <td>0.3</td>\n",
       "      <td>3.80</td>\n",
       "      <td>Friday</td>\n",
       "      <td>0</td>\n",
       "      <td>0</td>\n",
       "    </tr>\n",
       "  </tbody>\n",
       "</table>\n",
       "</div>"
      ],
      "text/plain": [
       "   VendorID tpep_pickup_datetime tpep_dropoff_datetime  passenger_count  \\\n",
       "0         1  2018-06-01 00:15:40   2018-06-01 00:16:46                1   \n",
       "1         1  2018-06-01 00:04:18   2018-06-01 00:09:18                1   \n",
       "2         1  2018-06-01 00:14:39   2018-06-01 00:29:46                1   \n",
       "3         1  2018-06-01 00:51:25   2018-06-01 00:51:29                3   \n",
       "4         1  2018-06-01 00:55:06   2018-06-01 00:55:10                1   \n",
       "\n",
       "   trip_distance  RatecodeID store_and_fwd_flag  PULocationID  DOLocationID  \\\n",
       "0            0.0           1                  N           145           145   \n",
       "1            1.0           1                  N           230           161   \n",
       "2            3.3           1                  N           100           263   \n",
       "3            0.0           1                  N           145           145   \n",
       "4            0.0           1                  N           145           145   \n",
       "\n",
       "   payment_type  fare_amount  extra  mta_tax  tip_amount  tolls_amount  \\\n",
       "0             2          3.0    0.5      0.5        0.00           0.0   \n",
       "1             1          5.5    0.5      0.5        1.35           0.0   \n",
       "2             2         13.0    0.5      0.5        0.00           0.0   \n",
       "3             2          2.5    0.5      0.5        0.00           0.0   \n",
       "4             2          2.5    0.5      0.5        0.00           0.0   \n",
       "\n",
       "   improvement_surcharge  total_amount pickup_weekday_name  pickup_hour  \\\n",
       "0                    0.3          4.30              Friday            0   \n",
       "1                    0.3          8.15              Friday            0   \n",
       "2                    0.3         14.30              Friday            0   \n",
       "3                    0.3          3.80              Friday            0   \n",
       "4                    0.3          3.80              Friday            0   \n",
       "\n",
       "   dropoff_hour  \n",
       "0             0  \n",
       "1             0  \n",
       "2             0  \n",
       "3             0  \n",
       "4             0  "
      ]
     },
     "execution_count": 22,
     "metadata": {},
     "output_type": "execute_result"
    }
   ],
   "source": [
    "df.head(5)"
   ]
  },
  {
   "cell_type": "code",
   "execution_count": 23,
   "metadata": {},
   "outputs": [
    {
     "name": "stdout",
     "output_type": "stream",
     "text": [
      "           VendorID  passenger_count  trip_distance    RatecodeID  \\\n",
      "count  8.713831e+06     8.713831e+06   8.713831e+06  8.713831e+06   \n",
      "mean   1.575645e+00     1.597527e+00   3.008475e+00  1.045928e+00   \n",
      "std    4.950090e-01     1.243872e+00   3.858110e+00  5.161131e-01   \n",
      "min    1.000000e+00     0.000000e+00   0.000000e+00  1.000000e+00   \n",
      "10%    1.000000e+00     1.000000e+00   6.100000e-01  1.000000e+00   \n",
      "25%    1.000000e+00     1.000000e+00   1.000000e+00  1.000000e+00   \n",
      "50%    2.000000e+00     1.000000e+00   1.660000e+00  1.000000e+00   \n",
      "75%    2.000000e+00     2.000000e+00   3.100000e+00  1.000000e+00   \n",
      "95%    2.000000e+00     5.000000e+00   1.115000e+01  1.000000e+00   \n",
      "max    4.000000e+00     9.000000e+00   8.331000e+02  9.900000e+01   \n",
      "\n",
      "       PULocationID  DOLocationID  payment_type   fare_amount         extra  \\\n",
      "count  8.713831e+06  8.713831e+06  8.713831e+06  8.713831e+06  8.713831e+06   \n",
      "mean   1.624701e+02  1.607770e+02  1.314139e+00  1.325420e+01  3.363939e-01   \n",
      "std    6.676301e+01  7.046724e+01  4.854247e-01  1.214530e+01  4.658805e-01   \n",
      "min    1.000000e+00  1.000000e+00  1.000000e+00 -3.000000e+02 -5.000000e+00   \n",
      "10%    6.800000e+01  5.000000e+01  1.000000e+00  5.000000e+00  0.000000e+00   \n",
      "25%    1.140000e+02  1.070000e+02  1.000000e+00  6.500000e+00  0.000000e+00   \n",
      "50%    1.620000e+02  1.620000e+02  1.000000e+00  9.500000e+00  0.000000e+00   \n",
      "75%    2.330000e+02  2.330000e+02  2.000000e+00  1.500000e+01  5.000000e-01   \n",
      "95%    2.610000e+02  2.610000e+02  2.000000e+00  3.800000e+01  1.000000e+00   \n",
      "max    2.650000e+02  2.650000e+02  4.000000e+00  8.018800e+03  5.300000e+00   \n",
      "\n",
      "            mta_tax    tip_amount  tolls_amount  improvement_surcharge  \\\n",
      "count  8.713831e+06  8.713831e+06  8.713831e+06           8.713831e+06   \n",
      "mean   4.970961e-01  1.906177e+00  3.631078e-01           2.995292e-01   \n",
      "std    4.213728e-02  2.664580e+00  1.807575e+00           1.613463e-02   \n",
      "min   -5.000000e-01 -1.000000e+02 -2.702000e+01          -3.000000e-01   \n",
      "10%    5.000000e-01  0.000000e+00  0.000000e+00           3.000000e-01   \n",
      "25%    5.000000e-01  0.000000e+00  0.000000e+00           3.000000e-01   \n",
      "50%    5.000000e-01  1.450000e+00  0.000000e+00           3.000000e-01   \n",
      "75%    5.000000e-01  2.460000e+00  0.000000e+00           3.000000e-01   \n",
      "95%    5.000000e-01  6.760000e+00  5.760000e+00           3.000000e-01   \n",
      "max    6.300000e+00  4.115000e+02  9.105000e+02           1.000000e+00   \n",
      "\n",
      "       total_amount   pickup_hour  dropoff_hour  \n",
      "count  8.713831e+06  8.713831e+06  8.713831e+06  \n",
      "mean   1.666019e+01  1.374674e+01  1.375385e+01  \n",
      "std    1.491407e+01  6.224730e+00  6.318259e+00  \n",
      "min   -3.332500e+02  0.000000e+00  0.000000e+00  \n",
      "10%    6.800000e+00  5.000000e+00  4.000000e+00  \n",
      "25%    8.750000e+00  9.000000e+00  9.000000e+00  \n",
      "50%    1.200000e+01  1.400000e+01  1.400000e+01  \n",
      "75%    1.830000e+01  1.900000e+01  1.900000e+01  \n",
      "95%    4.896000e+01  2.200000e+01  2.200000e+01  \n",
      "max    8.019600e+03  2.300000e+01  2.300000e+01  \n"
     ]
    }
   ],
   "source": [
    "print(df.describe(percentiles = [.1, .25, .5, .75, .95]))"
   ]
  },
  {
   "cell_type": "markdown",
   "metadata": {},
   "source": [
    "### As can be seen from the plot image, most of the people would not travel far during rush hour, which was from 5 PM to 7 PM."
   ]
  },
  {
   "cell_type": "markdown",
   "metadata": {},
   "source": [
    "# --------------------------------------------------------------------------------------------------------------"
   ]
  },
  {
   "cell_type": "markdown",
   "metadata": {},
   "source": [
    "## 1.8 trip_duration \n",
    "### Adding new column: 'trip_duration' \n",
    "### By calculating ---> (tpep_dropoff_datetime - tpep_pickup_datetime) in seconds"
   ]
  },
  {
   "cell_type": "code",
   "execution_count": 24,
   "metadata": {},
   "outputs": [],
   "source": [
    "df[\"trip_duration\"] = (df[\"tpep_dropoff_datetime\"] - df[\"tpep_pickup_datetime\"]).dt.total_seconds()"
   ]
  },
  {
   "cell_type": "code",
   "execution_count": 25,
   "metadata": {},
   "outputs": [
    {
     "data": {
      "text/html": [
       "<div>\n",
       "<style scoped>\n",
       "    .dataframe tbody tr th:only-of-type {\n",
       "        vertical-align: middle;\n",
       "    }\n",
       "\n",
       "    .dataframe tbody tr th {\n",
       "        vertical-align: top;\n",
       "    }\n",
       "\n",
       "    .dataframe thead th {\n",
       "        text-align: right;\n",
       "    }\n",
       "</style>\n",
       "<table border=\"1\" class=\"dataframe\">\n",
       "  <thead>\n",
       "    <tr style=\"text-align: right;\">\n",
       "      <th></th>\n",
       "      <th>VendorID</th>\n",
       "      <th>tpep_pickup_datetime</th>\n",
       "      <th>tpep_dropoff_datetime</th>\n",
       "      <th>passenger_count</th>\n",
       "      <th>trip_distance</th>\n",
       "      <th>RatecodeID</th>\n",
       "      <th>store_and_fwd_flag</th>\n",
       "      <th>PULocationID</th>\n",
       "      <th>DOLocationID</th>\n",
       "      <th>payment_type</th>\n",
       "      <th>...</th>\n",
       "      <th>extra</th>\n",
       "      <th>mta_tax</th>\n",
       "      <th>tip_amount</th>\n",
       "      <th>tolls_amount</th>\n",
       "      <th>improvement_surcharge</th>\n",
       "      <th>total_amount</th>\n",
       "      <th>pickup_weekday_name</th>\n",
       "      <th>pickup_hour</th>\n",
       "      <th>dropoff_hour</th>\n",
       "      <th>trip_duration</th>\n",
       "    </tr>\n",
       "  </thead>\n",
       "  <tbody>\n",
       "    <tr>\n",
       "      <th>0</th>\n",
       "      <td>1</td>\n",
       "      <td>2018-06-01 00:15:40</td>\n",
       "      <td>2018-06-01 00:16:46</td>\n",
       "      <td>1</td>\n",
       "      <td>0.0</td>\n",
       "      <td>1</td>\n",
       "      <td>N</td>\n",
       "      <td>145</td>\n",
       "      <td>145</td>\n",
       "      <td>2</td>\n",
       "      <td>...</td>\n",
       "      <td>0.5</td>\n",
       "      <td>0.5</td>\n",
       "      <td>0.00</td>\n",
       "      <td>0.0</td>\n",
       "      <td>0.3</td>\n",
       "      <td>4.30</td>\n",
       "      <td>Friday</td>\n",
       "      <td>0</td>\n",
       "      <td>0</td>\n",
       "      <td>66.0</td>\n",
       "    </tr>\n",
       "    <tr>\n",
       "      <th>1</th>\n",
       "      <td>1</td>\n",
       "      <td>2018-06-01 00:04:18</td>\n",
       "      <td>2018-06-01 00:09:18</td>\n",
       "      <td>1</td>\n",
       "      <td>1.0</td>\n",
       "      <td>1</td>\n",
       "      <td>N</td>\n",
       "      <td>230</td>\n",
       "      <td>161</td>\n",
       "      <td>1</td>\n",
       "      <td>...</td>\n",
       "      <td>0.5</td>\n",
       "      <td>0.5</td>\n",
       "      <td>1.35</td>\n",
       "      <td>0.0</td>\n",
       "      <td>0.3</td>\n",
       "      <td>8.15</td>\n",
       "      <td>Friday</td>\n",
       "      <td>0</td>\n",
       "      <td>0</td>\n",
       "      <td>300.0</td>\n",
       "    </tr>\n",
       "    <tr>\n",
       "      <th>2</th>\n",
       "      <td>1</td>\n",
       "      <td>2018-06-01 00:14:39</td>\n",
       "      <td>2018-06-01 00:29:46</td>\n",
       "      <td>1</td>\n",
       "      <td>3.3</td>\n",
       "      <td>1</td>\n",
       "      <td>N</td>\n",
       "      <td>100</td>\n",
       "      <td>263</td>\n",
       "      <td>2</td>\n",
       "      <td>...</td>\n",
       "      <td>0.5</td>\n",
       "      <td>0.5</td>\n",
       "      <td>0.00</td>\n",
       "      <td>0.0</td>\n",
       "      <td>0.3</td>\n",
       "      <td>14.30</td>\n",
       "      <td>Friday</td>\n",
       "      <td>0</td>\n",
       "      <td>0</td>\n",
       "      <td>907.0</td>\n",
       "    </tr>\n",
       "    <tr>\n",
       "      <th>3</th>\n",
       "      <td>1</td>\n",
       "      <td>2018-06-01 00:51:25</td>\n",
       "      <td>2018-06-01 00:51:29</td>\n",
       "      <td>3</td>\n",
       "      <td>0.0</td>\n",
       "      <td>1</td>\n",
       "      <td>N</td>\n",
       "      <td>145</td>\n",
       "      <td>145</td>\n",
       "      <td>2</td>\n",
       "      <td>...</td>\n",
       "      <td>0.5</td>\n",
       "      <td>0.5</td>\n",
       "      <td>0.00</td>\n",
       "      <td>0.0</td>\n",
       "      <td>0.3</td>\n",
       "      <td>3.80</td>\n",
       "      <td>Friday</td>\n",
       "      <td>0</td>\n",
       "      <td>0</td>\n",
       "      <td>4.0</td>\n",
       "    </tr>\n",
       "    <tr>\n",
       "      <th>4</th>\n",
       "      <td>1</td>\n",
       "      <td>2018-06-01 00:55:06</td>\n",
       "      <td>2018-06-01 00:55:10</td>\n",
       "      <td>1</td>\n",
       "      <td>0.0</td>\n",
       "      <td>1</td>\n",
       "      <td>N</td>\n",
       "      <td>145</td>\n",
       "      <td>145</td>\n",
       "      <td>2</td>\n",
       "      <td>...</td>\n",
       "      <td>0.5</td>\n",
       "      <td>0.5</td>\n",
       "      <td>0.00</td>\n",
       "      <td>0.0</td>\n",
       "      <td>0.3</td>\n",
       "      <td>3.80</td>\n",
       "      <td>Friday</td>\n",
       "      <td>0</td>\n",
       "      <td>0</td>\n",
       "      <td>4.0</td>\n",
       "    </tr>\n",
       "  </tbody>\n",
       "</table>\n",
       "<p>5 rows × 21 columns</p>\n",
       "</div>"
      ],
      "text/plain": [
       "   VendorID tpep_pickup_datetime tpep_dropoff_datetime  passenger_count  \\\n",
       "0         1  2018-06-01 00:15:40   2018-06-01 00:16:46                1   \n",
       "1         1  2018-06-01 00:04:18   2018-06-01 00:09:18                1   \n",
       "2         1  2018-06-01 00:14:39   2018-06-01 00:29:46                1   \n",
       "3         1  2018-06-01 00:51:25   2018-06-01 00:51:29                3   \n",
       "4         1  2018-06-01 00:55:06   2018-06-01 00:55:10                1   \n",
       "\n",
       "   trip_distance  RatecodeID store_and_fwd_flag  PULocationID  DOLocationID  \\\n",
       "0            0.0           1                  N           145           145   \n",
       "1            1.0           1                  N           230           161   \n",
       "2            3.3           1                  N           100           263   \n",
       "3            0.0           1                  N           145           145   \n",
       "4            0.0           1                  N           145           145   \n",
       "\n",
       "   payment_type  ...  extra  mta_tax  tip_amount  tolls_amount  \\\n",
       "0             2  ...    0.5      0.5        0.00           0.0   \n",
       "1             1  ...    0.5      0.5        1.35           0.0   \n",
       "2             2  ...    0.5      0.5        0.00           0.0   \n",
       "3             2  ...    0.5      0.5        0.00           0.0   \n",
       "4             2  ...    0.5      0.5        0.00           0.0   \n",
       "\n",
       "   improvement_surcharge  total_amount  pickup_weekday_name pickup_hour  \\\n",
       "0                    0.3          4.30               Friday           0   \n",
       "1                    0.3          8.15               Friday           0   \n",
       "2                    0.3         14.30               Friday           0   \n",
       "3                    0.3          3.80               Friday           0   \n",
       "4                    0.3          3.80               Friday           0   \n",
       "\n",
       "   dropoff_hour  trip_duration  \n",
       "0             0           66.0  \n",
       "1             0          300.0  \n",
       "2             0          907.0  \n",
       "3             0            4.0  \n",
       "4             0            4.0  \n",
       "\n",
       "[5 rows x 21 columns]"
      ]
     },
     "execution_count": 25,
     "metadata": {},
     "output_type": "execute_result"
    }
   ],
   "source": [
    "df.head(5)"
   ]
  },
  {
   "cell_type": "code",
   "execution_count": 28,
   "metadata": {},
   "outputs": [],
   "source": [
    "# plt.figure(figsize=(40,20))\n",
    "# sns.catplot(x=\"pickup_weekday_name\",y=\"trip_duration\",data=df)\n",
    "# plt.show()"
   ]
  },
  {
   "cell_type": "code",
   "execution_count": 26,
   "metadata": {},
   "outputs": [
    {
     "data": {
      "image/png": "[encoded data removed]",
      "text/plain": [
       "<Figure size 720x720 with 1 Axes>"
      ]
     },
     "metadata": {
      "needs_background": "light"
     },
     "output_type": "display_data"
    }
   ],
   "source": [
    "plt.figure(figsize=(10,10))\n",
    "sns.stripplot(x=\"pickup_weekday_name\",y=\"trip_duration\",data=df)\n",
    "plt.show()"
   ]
  },
  {
   "cell_type": "code",
   "execution_count": 27,
   "metadata": {},
   "outputs": [
    {
     "data": {
      "image/png": "[encoded data removed]",
      "text/plain": [
       "<Figure size 720x720 with 1 Axes>"
      ]
     },
     "metadata": {
      "needs_background": "light"
     },
     "output_type": "display_data"
    }
   ],
   "source": [
    "plt.figure(figsize=(10,10))\n",
    "sns.stripplot(x=\"pickup_hour\",y=\"trip_duration\",data=df)\n",
    "plt.show()"
   ]
  },
  {
   "cell_type": "markdown",
   "metadata": {},
   "source": [
    "# --------------------------------------------------------------------------------------------------------------"
   ]
  },
  {
   "cell_type": "markdown",
   "metadata": {},
   "source": [
    "# --------------------------------------------------------------------------------------------------------------"
   ]
  },
  {
   "cell_type": "markdown",
   "metadata": {},
   "source": [
    "# --------------------------------------------------------------------------------------------------------------"
   ]
  },
  {
   "cell_type": "markdown",
   "metadata": {},
   "source": [
    "# Part 2. Further Exploration & Feature Preprocessing"
   ]
  },
  {
   "cell_type": "markdown",
   "metadata": {},
   "source": [
    "## 2.1 Extracting data\n",
    "### within the targeted time period 'rush hour' (pickup time from 17:00:00 to 19:59:59)"
   ]
  },
  {
   "cell_type": "code",
   "execution_count": 28,
   "metadata": {},
   "outputs": [],
   "source": [
    "df1 = df.loc[:,['pickup_weekday_name', 'pickup_hour', 'tpep_pickup_datetime','tpep_dropoff_datetime','trip_duration', 'PULocationID', 'DOLocationID','trip_distance', 'passenger_count']]"
   ]
  },
  {
   "cell_type": "code",
   "execution_count": 29,
   "metadata": {},
   "outputs": [
    {
     "data": {
      "text/plain": [
       "(8713831, 9)"
      ]
     },
     "execution_count": 29,
     "metadata": {},
     "output_type": "execute_result"
    }
   ],
   "source": [
    "df1.shape"
   ]
  },
  {
   "cell_type": "code",
   "execution_count": 30,
   "metadata": {},
   "outputs": [
    {
     "data": {
      "text/html": [
       "<div>\n",
       "<style scoped>\n",
       "    .dataframe tbody tr th:only-of-type {\n",
       "        vertical-align: middle;\n",
       "    }\n",
       "\n",
       "    .dataframe tbody tr th {\n",
       "        vertical-align: top;\n",
       "    }\n",
       "\n",
       "    .dataframe thead th {\n",
       "        text-align: right;\n",
       "    }\n",
       "</style>\n",
       "<table border=\"1\" class=\"dataframe\">\n",
       "  <thead>\n",
       "    <tr style=\"text-align: right;\">\n",
       "      <th></th>\n",
       "      <th>pickup_weekday_name</th>\n",
       "      <th>pickup_hour</th>\n",
       "      <th>tpep_pickup_datetime</th>\n",
       "      <th>tpep_dropoff_datetime</th>\n",
       "      <th>trip_duration</th>\n",
       "      <th>PULocationID</th>\n",
       "      <th>DOLocationID</th>\n",
       "      <th>trip_distance</th>\n",
       "      <th>passenger_count</th>\n",
       "    </tr>\n",
       "  </thead>\n",
       "  <tbody>\n",
       "    <tr>\n",
       "      <th>0</th>\n",
       "      <td>Friday</td>\n",
       "      <td>0</td>\n",
       "      <td>2018-06-01 00:15:40</td>\n",
       "      <td>2018-06-01 00:16:46</td>\n",
       "      <td>66.0</td>\n",
       "      <td>145</td>\n",
       "      <td>145</td>\n",
       "      <td>0.0</td>\n",
       "      <td>1</td>\n",
       "    </tr>\n",
       "    <tr>\n",
       "      <th>1</th>\n",
       "      <td>Friday</td>\n",
       "      <td>0</td>\n",
       "      <td>2018-06-01 00:04:18</td>\n",
       "      <td>2018-06-01 00:09:18</td>\n",
       "      <td>300.0</td>\n",
       "      <td>230</td>\n",
       "      <td>161</td>\n",
       "      <td>1.0</td>\n",
       "      <td>1</td>\n",
       "    </tr>\n",
       "    <tr>\n",
       "      <th>2</th>\n",
       "      <td>Friday</td>\n",
       "      <td>0</td>\n",
       "      <td>2018-06-01 00:14:39</td>\n",
       "      <td>2018-06-01 00:29:46</td>\n",
       "      <td>907.0</td>\n",
       "      <td>100</td>\n",
       "      <td>263</td>\n",
       "      <td>3.3</td>\n",
       "      <td>1</td>\n",
       "    </tr>\n",
       "    <tr>\n",
       "      <th>3</th>\n",
       "      <td>Friday</td>\n",
       "      <td>0</td>\n",
       "      <td>2018-06-01 00:51:25</td>\n",
       "      <td>2018-06-01 00:51:29</td>\n",
       "      <td>4.0</td>\n",
       "      <td>145</td>\n",
       "      <td>145</td>\n",
       "      <td>0.0</td>\n",
       "      <td>3</td>\n",
       "    </tr>\n",
       "    <tr>\n",
       "      <th>4</th>\n",
       "      <td>Friday</td>\n",
       "      <td>0</td>\n",
       "      <td>2018-06-01 00:55:06</td>\n",
       "      <td>2018-06-01 00:55:10</td>\n",
       "      <td>4.0</td>\n",
       "      <td>145</td>\n",
       "      <td>145</td>\n",
       "      <td>0.0</td>\n",
       "      <td>1</td>\n",
       "    </tr>\n",
       "  </tbody>\n",
       "</table>\n",
       "</div>"
      ],
      "text/plain": [
       "  pickup_weekday_name  pickup_hour tpep_pickup_datetime tpep_dropoff_datetime  \\\n",
       "0              Friday            0  2018-06-01 00:15:40   2018-06-01 00:16:46   \n",
       "1              Friday            0  2018-06-01 00:04:18   2018-06-01 00:09:18   \n",
       "2              Friday            0  2018-06-01 00:14:39   2018-06-01 00:29:46   \n",
       "3              Friday            0  2018-06-01 00:51:25   2018-06-01 00:51:29   \n",
       "4              Friday            0  2018-06-01 00:55:06   2018-06-01 00:55:10   \n",
       "\n",
       "   trip_duration  PULocationID  DOLocationID  trip_distance  passenger_count  \n",
       "0           66.0           145           145            0.0                1  \n",
       "1          300.0           230           161            1.0                1  \n",
       "2          907.0           100           263            3.3                1  \n",
       "3            4.0           145           145            0.0                3  \n",
       "4            4.0           145           145            0.0                1  "
      ]
     },
     "execution_count": 30,
     "metadata": {},
     "output_type": "execute_result"
    }
   ],
   "source": [
    "df1.head()"
   ]
  },
  {
   "cell_type": "code",
   "execution_count": 31,
   "metadata": {},
   "outputs": [
    {
     "data": {
      "text/plain": [
       "pickup_weekday_name              object\n",
       "pickup_hour                       int64\n",
       "tpep_pickup_datetime     datetime64[ns]\n",
       "tpep_dropoff_datetime    datetime64[ns]\n",
       "trip_duration                   float64\n",
       "PULocationID                      int64\n",
       "DOLocationID                      int64\n",
       "trip_distance                   float64\n",
       "passenger_count                   int64\n",
       "dtype: object"
      ]
     },
     "execution_count": 31,
     "metadata": {},
     "output_type": "execute_result"
    }
   ],
   "source": [
    "df1.dtypes"
   ]
  },
  {
   "cell_type": "code",
   "execution_count": 32,
   "metadata": {},
   "outputs": [
    {
     "name": "stdout",
     "output_type": "stream",
     "text": [
      "2002-12-31 22:34:35\n",
      "2019-04-28 17:07:42\n"
     ]
    }
   ],
   "source": [
    "print(df1.tpep_pickup_datetime.min())\n",
    "print(df1.tpep_pickup_datetime.max())"
   ]
  },
  {
   "cell_type": "markdown",
   "metadata": {},
   "source": [
    "### Notice : Data has some outliers which are not in June. I have to filter out the data which was not in June, 2018."
   ]
  },
  {
   "cell_type": "code",
   "execution_count": 33,
   "metadata": {},
   "outputs": [],
   "source": [
    "df1 = df1.query(\"datetime.datetime(2018,6,1,0,0,0) <= tpep_pickup_datetime < datetime.datetime(2018,7,1,0,0,0)\")"
   ]
  },
  {
   "cell_type": "code",
   "execution_count": 34,
   "metadata": {},
   "outputs": [
    {
     "name": "stdout",
     "output_type": "stream",
     "text": [
      "2018-06-01 00:00:00\n",
      "2018-06-30 23:59:59\n"
     ]
    }
   ],
   "source": [
    "print(df1.tpep_pickup_datetime.min())\n",
    "print(df1.tpep_pickup_datetime.max())"
   ]
  },
  {
   "cell_type": "markdown",
   "metadata": {},
   "source": [
    "### Filtering out the data which was not between the rush hour (pick up time from 17:00:00 to 19:59:59)."
   ]
  },
  {
   "cell_type": "code",
   "execution_count": 35,
   "metadata": {},
   "outputs": [],
   "source": [
    "df1['pick_time'] = [d.time() for d in df1['tpep_pickup_datetime']]\n",
    "\n",
    "df1 = df1.query(\"datetime.time(17,0,0) <= pick_time < datetime.time(20,0,0)\")"
   ]
  },
  {
   "cell_type": "code",
   "execution_count": 36,
   "metadata": {},
   "outputs": [
    {
     "name": "stdout",
     "output_type": "stream",
     "text": [
      "2018-06-01 17:00:00\n",
      "2018-06-30 19:59:59\n"
     ]
    }
   ],
   "source": [
    "print(df1.tpep_pickup_datetime.min())\n",
    "print(df1.tpep_pickup_datetime.max())"
   ]
  },
  {
   "cell_type": "code",
   "execution_count": 37,
   "metadata": {},
   "outputs": [
    {
     "data": {
      "text/html": [
       "<div>\n",
       "<style scoped>\n",
       "    .dataframe tbody tr th:only-of-type {\n",
       "        vertical-align: middle;\n",
       "    }\n",
       "\n",
       "    .dataframe tbody tr th {\n",
       "        vertical-align: top;\n",
       "    }\n",
       "\n",
       "    .dataframe thead th {\n",
       "        text-align: right;\n",
       "    }\n",
       "</style>\n",
       "<table border=\"1\" class=\"dataframe\">\n",
       "  <thead>\n",
       "    <tr style=\"text-align: right;\">\n",
       "      <th></th>\n",
       "      <th>pickup_weekday_name</th>\n",
       "      <th>pickup_hour</th>\n",
       "      <th>tpep_pickup_datetime</th>\n",
       "      <th>tpep_dropoff_datetime</th>\n",
       "      <th>trip_duration</th>\n",
       "      <th>PULocationID</th>\n",
       "      <th>DOLocationID</th>\n",
       "      <th>trip_distance</th>\n",
       "      <th>passenger_count</th>\n",
       "    </tr>\n",
       "  </thead>\n",
       "  <tbody>\n",
       "    <tr>\n",
       "      <th>149221</th>\n",
       "      <td>Friday</td>\n",
       "      <td>17</td>\n",
       "      <td>2018-06-01 17:00:40</td>\n",
       "      <td>2018-06-01 17:04:40</td>\n",
       "      <td>240.0</td>\n",
       "      <td>143</td>\n",
       "      <td>232</td>\n",
       "      <td>0.61</td>\n",
       "      <td>1</td>\n",
       "    </tr>\n",
       "    <tr>\n",
       "      <th>149222</th>\n",
       "      <td>Friday</td>\n",
       "      <td>17</td>\n",
       "      <td>2018-06-01 17:17:26</td>\n",
       "      <td>2018-06-01 17:22:54</td>\n",
       "      <td>328.0</td>\n",
       "      <td>107</td>\n",
       "      <td>4</td>\n",
       "      <td>1.16</td>\n",
       "      <td>2</td>\n",
       "    </tr>\n",
       "    <tr>\n",
       "      <th>149223</th>\n",
       "      <td>Friday</td>\n",
       "      <td>17</td>\n",
       "      <td>2018-06-01 17:28:20</td>\n",
       "      <td>2018-06-01 17:40:55</td>\n",
       "      <td>755.0</td>\n",
       "      <td>224</td>\n",
       "      <td>90</td>\n",
       "      <td>1.27</td>\n",
       "      <td>1</td>\n",
       "    </tr>\n",
       "    <tr>\n",
       "      <th>162775</th>\n",
       "      <td>Friday</td>\n",
       "      <td>18</td>\n",
       "      <td>2018-06-01 18:47:39</td>\n",
       "      <td>2018-06-01 18:50:38</td>\n",
       "      <td>179.0</td>\n",
       "      <td>264</td>\n",
       "      <td>264</td>\n",
       "      <td>0.00</td>\n",
       "      <td>1</td>\n",
       "    </tr>\n",
       "    <tr>\n",
       "      <th>176869</th>\n",
       "      <td>Friday</td>\n",
       "      <td>17</td>\n",
       "      <td>2018-06-01 17:00:46</td>\n",
       "      <td>2018-06-01 17:09:12</td>\n",
       "      <td>506.0</td>\n",
       "      <td>239</td>\n",
       "      <td>151</td>\n",
       "      <td>1.31</td>\n",
       "      <td>3</td>\n",
       "    </tr>\n",
       "  </tbody>\n",
       "</table>\n",
       "</div>"
      ],
      "text/plain": [
       "       pickup_weekday_name  pickup_hour tpep_pickup_datetime  \\\n",
       "149221              Friday           17  2018-06-01 17:00:40   \n",
       "149222              Friday           17  2018-06-01 17:17:26   \n",
       "149223              Friday           17  2018-06-01 17:28:20   \n",
       "162775              Friday           18  2018-06-01 18:47:39   \n",
       "176869              Friday           17  2018-06-01 17:00:46   \n",
       "\n",
       "       tpep_dropoff_datetime  trip_duration  PULocationID  DOLocationID  \\\n",
       "149221   2018-06-01 17:04:40          240.0           143           232   \n",
       "149222   2018-06-01 17:22:54          328.0           107             4   \n",
       "149223   2018-06-01 17:40:55          755.0           224            90   \n",
       "162775   2018-06-01 18:50:38          179.0           264           264   \n",
       "176869   2018-06-01 17:09:12          506.0           239           151   \n",
       "\n",
       "        trip_distance  passenger_count  \n",
       "149221           0.61                1  \n",
       "149222           1.16                2  \n",
       "149223           1.27                1  \n",
       "162775           0.00                1  \n",
       "176869           1.31                3  "
      ]
     },
     "execution_count": 37,
     "metadata": {},
     "output_type": "execute_result"
    }
   ],
   "source": [
    "df1 = df1.drop(['pick_time'],axis=1)\n",
    "df1.head()"
   ]
  },
  {
   "cell_type": "code",
   "execution_count": 38,
   "metadata": {},
   "outputs": [
    {
     "data": {
      "text/html": [
       "<div>\n",
       "<style scoped>\n",
       "    .dataframe tbody tr th:only-of-type {\n",
       "        vertical-align: middle;\n",
       "    }\n",
       "\n",
       "    .dataframe tbody tr th {\n",
       "        vertical-align: top;\n",
       "    }\n",
       "\n",
       "    .dataframe thead th {\n",
       "        text-align: right;\n",
       "    }\n",
       "</style>\n",
       "<table border=\"1\" class=\"dataframe\">\n",
       "  <thead>\n",
       "    <tr style=\"text-align: right;\">\n",
       "      <th></th>\n",
       "      <th>pickup_weekday_name</th>\n",
       "      <th>pickup_hour</th>\n",
       "      <th>tpep_pickup_datetime</th>\n",
       "      <th>tpep_dropoff_datetime</th>\n",
       "      <th>trip_duration</th>\n",
       "      <th>PULocationID</th>\n",
       "      <th>DOLocationID</th>\n",
       "      <th>trip_distance</th>\n",
       "      <th>passenger_count</th>\n",
       "    </tr>\n",
       "  </thead>\n",
       "  <tbody>\n",
       "    <tr>\n",
       "      <th>8707608</th>\n",
       "      <td>Saturday</td>\n",
       "      <td>18</td>\n",
       "      <td>2018-06-30 18:16:15</td>\n",
       "      <td>2018-06-30 18:26:07</td>\n",
       "      <td>592.0</td>\n",
       "      <td>249</td>\n",
       "      <td>234</td>\n",
       "      <td>1.63</td>\n",
       "      <td>1</td>\n",
       "    </tr>\n",
       "    <tr>\n",
       "      <th>8707609</th>\n",
       "      <td>Saturday</td>\n",
       "      <td>18</td>\n",
       "      <td>2018-06-30 18:34:27</td>\n",
       "      <td>2018-06-30 18:40:26</td>\n",
       "      <td>359.0</td>\n",
       "      <td>249</td>\n",
       "      <td>114</td>\n",
       "      <td>0.55</td>\n",
       "      <td>1</td>\n",
       "    </tr>\n",
       "    <tr>\n",
       "      <th>8707610</th>\n",
       "      <td>Saturday</td>\n",
       "      <td>19</td>\n",
       "      <td>2018-06-30 19:04:01</td>\n",
       "      <td>2018-06-30 19:10:08</td>\n",
       "      <td>367.0</td>\n",
       "      <td>164</td>\n",
       "      <td>113</td>\n",
       "      <td>1.12</td>\n",
       "      <td>1</td>\n",
       "    </tr>\n",
       "    <tr>\n",
       "      <th>8708519</th>\n",
       "      <td>Saturday</td>\n",
       "      <td>17</td>\n",
       "      <td>2018-06-30 17:32:15</td>\n",
       "      <td>2018-06-30 17:40:50</td>\n",
       "      <td>515.0</td>\n",
       "      <td>48</td>\n",
       "      <td>24</td>\n",
       "      <td>3.25</td>\n",
       "      <td>2</td>\n",
       "    </tr>\n",
       "    <tr>\n",
       "      <th>8708520</th>\n",
       "      <td>Saturday</td>\n",
       "      <td>18</td>\n",
       "      <td>2018-06-30 18:10:23</td>\n",
       "      <td>2018-07-01 17:16:38</td>\n",
       "      <td>83175.0</td>\n",
       "      <td>90</td>\n",
       "      <td>249</td>\n",
       "      <td>0.74</td>\n",
       "      <td>1</td>\n",
       "    </tr>\n",
       "  </tbody>\n",
       "</table>\n",
       "</div>"
      ],
      "text/plain": [
       "        pickup_weekday_name  pickup_hour tpep_pickup_datetime  \\\n",
       "8707608            Saturday           18  2018-06-30 18:16:15   \n",
       "8707609            Saturday           18  2018-06-30 18:34:27   \n",
       "8707610            Saturday           19  2018-06-30 19:04:01   \n",
       "8708519            Saturday           17  2018-06-30 17:32:15   \n",
       "8708520            Saturday           18  2018-06-30 18:10:23   \n",
       "\n",
       "        tpep_dropoff_datetime  trip_duration  PULocationID  DOLocationID  \\\n",
       "8707608   2018-06-30 18:26:07          592.0           249           234   \n",
       "8707609   2018-06-30 18:40:26          359.0           249           114   \n",
       "8707610   2018-06-30 19:10:08          367.0           164           113   \n",
       "8708519   2018-06-30 17:40:50          515.0            48            24   \n",
       "8708520   2018-07-01 17:16:38        83175.0            90           249   \n",
       "\n",
       "         trip_distance  passenger_count  \n",
       "8707608           1.63                1  \n",
       "8707609           0.55                1  \n",
       "8707610           1.12                1  \n",
       "8708519           3.25                2  \n",
       "8708520           0.74                1  "
      ]
     },
     "execution_count": 38,
     "metadata": {},
     "output_type": "execute_result"
    }
   ],
   "source": [
    "df1.tail()"
   ]
  },
  {
   "cell_type": "markdown",
   "metadata": {},
   "source": [
    "###  Correlation of the numerical features: trip_distance & trip_duration"
   ]
  },
  {
   "cell_type": "code",
   "execution_count": 39,
   "metadata": {},
   "outputs": [
    {
     "name": "stdout",
     "output_type": "stream",
     "text": [
      "               trip_distance  trip_duration\n",
      "trip_distance       1.000000       0.183491\n",
      "trip_duration       0.183491       1.000000\n"
     ]
    },
    {
     "data": {
      "image/png": "[encoded data removed]",
      "text/plain": [
       "<Figure size 432x288 with 2 Axes>"
      ]
     },
     "metadata": {
      "needs_background": "light"
     },
     "output_type": "display_data"
    }
   ],
   "source": [
    "corr2 = df1[['trip_distance', 'trip_duration']].corr()\n",
    "sns.heatmap(corr2, cmap='YlOrRd')\n",
    "print(corr2)"
   ]
  },
  {
   "cell_type": "markdown",
   "metadata": {},
   "source": [
    "### Day of the week & total amount of yellow taxi usage during the rush hours"
   ]
  },
  {
   "cell_type": "code",
   "execution_count": 40,
   "metadata": {},
   "outputs": [
    {
     "data": {
      "image/png": "[encoded data removed]",
      "text/plain": [
       "<Figure size 864x576 with 1 Axes>"
      ]
     },
     "metadata": {
      "needs_background": "light"
     },
     "output_type": "display_data"
    }
   ],
   "source": [
    "plt.figure(figsize=(12,8))\n",
    "sns.countplot(x=\"pickup_weekday_name\", data=df1)\n",
    "plt.show()"
   ]
  },
  {
   "cell_type": "markdown",
   "metadata": {},
   "source": [
    "#### Yellow taxi flow was at its highest on Fridays while the second highest was on Saturdays during rush hours."
   ]
  },
  {
   "cell_type": "markdown",
   "metadata": {},
   "source": [
    "# --------------------------------------------------------------------------------------------------------------"
   ]
  },
  {
   "cell_type": "markdown",
   "metadata": {},
   "source": [
    "## 2.2 Check for outliers"
   ]
  },
  {
   "cell_type": "markdown",
   "metadata": {},
   "source": [
    "### Pickup & dropoff loaction ID"
   ]
  },
  {
   "cell_type": "code",
   "execution_count": 41,
   "metadata": {},
   "outputs": [
    {
     "name": "stdout",
     "output_type": "stream",
     "text": [
      "Pickup location: count    1.552533e+06\n",
      "mean     1.656514e+02\n",
      "std      6.545517e+01\n",
      "min      1.000000e+00\n",
      "25%      1.320000e+02\n",
      "50%      1.620000e+02\n",
      "75%      2.340000e+02\n",
      "max      2.650000e+02\n",
      "Name: PULocationID, dtype: float64\n",
      "int64\n",
      "Dropoff location: count    1.552533e+06\n",
      "mean     1.634703e+02\n",
      "std      7.079926e+01\n",
      "min      1.000000e+00\n",
      "25%      1.130000e+02\n",
      "50%      1.620000e+02\n",
      "75%      2.340000e+02\n",
      "max      2.650000e+02\n",
      "Name: DOLocationID, dtype: float64\n",
      "int64\n"
     ]
    }
   ],
   "source": [
    "print('Pickup location:',df1['PULocationID'].describe())\n",
    "print(df1['PULocationID'].dtype)\n",
    "\n",
    "print('Dropoff location:',df1['DOLocationID'].describe())\n",
    "print(df1['DOLocationID'].dtype)"
   ]
  },
  {
   "cell_type": "markdown",
   "metadata": {},
   "source": [
    "#### which means that there is no outlier in both the 'PULocationID' and 'DOLocationID' columns"
   ]
  },
  {
   "cell_type": "markdown",
   "metadata": {},
   "source": [
    "### Passenger number (passenger_count)"
   ]
  },
  {
   "cell_type": "code",
   "execution_count": 42,
   "metadata": {},
   "outputs": [
    {
     "data": {
      "image/png": "[encoded data removed]",
      "text/plain": [
       "<Figure size 864x576 with 1 Axes>"
      ]
     },
     "metadata": {
      "needs_background": "light"
     },
     "output_type": "display_data"
    }
   ],
   "source": [
    "plt.figure(figsize=(12,8))\n",
    "#sns.catplot(x=\"pickup_hour\", y=\"passenger_count\", data=df1)\n",
    "sns.violinplot(x=\"pickup_hour\", y=\"passenger_count\", data=df1)\n",
    "plt.show()"
   ]
  },
  {
   "cell_type": "markdown",
   "metadata": {},
   "source": [
    "#### I notice that there are some outliers in the passenger_count column since normally the taxi won't be able to carry more than 4 passengers at the same time. \n",
    "#### However, there are some passenger numbers which are bigger than 4 and even 5. \n",
    "#### This might be a typo from the driver's side or some technical mistakes from the vendors. \n",
    "#### As long as it has nothing to do with my prediction model features (or one outlier in passenger_count doesn't mean that the whole piece of data is contaminated), I will just leave it there."
   ]
  },
  {
   "cell_type": "markdown",
   "metadata": {},
   "source": [
    "### Trip duration & weekday & pickup hour"
   ]
  },
  {
   "cell_type": "code",
   "execution_count": 43,
   "metadata": {},
   "outputs": [
    {
     "data": {
      "image/png": "[encoded data removed]",
      "text/plain": [
       "<Figure size 720x720 with 1 Axes>"
      ]
     },
     "metadata": {
      "needs_background": "light"
     },
     "output_type": "display_data"
    }
   ],
   "source": [
    "plt.figure(figsize=(10,10))\n",
    "sns.stripplot(x=\"pickup_weekday_name\",y=\"trip_duration\",hue='pickup_hour',data=df1)\n",
    "plt.show()"
   ]
  },
  {
   "cell_type": "code",
   "execution_count": 44,
   "metadata": {},
   "outputs": [
    {
     "name": "stdout",
     "output_type": "stream",
     "text": [
      "The longest trip duration in the datasat is: 86399.0 seconds, which equals to 23.99972222222222 hours\n",
      "The shortest trip duration in the datasat is: 0.0 seconds\n"
     ]
    }
   ],
   "source": [
    "print(\"The longest trip duration in the datasat is:\",df1[\"trip_duration\"].max(),\"seconds, which equals to\", (df1[\"trip_duration\"].max())/3600, \"hours\")\n",
    "print(\"The shortest trip duration in the datasat is:\",df1[\"trip_duration\"].min(),\"seconds\")"
   ]
  },
  {
   "cell_type": "code",
   "execution_count": 45,
   "metadata": {},
   "outputs": [
    {
     "data": {
      "text/plain": [
       "count    1.552533e+06\n",
       "mean     1.062792e+03\n",
       "std      3.705111e+03\n",
       "min      0.000000e+00\n",
       "25%      4.120000e+02\n",
       "50%      6.960000e+02\n",
       "75%      1.142000e+03\n",
       "max      8.639900e+04\n",
       "Name: trip_duration, dtype: float64"
      ]
     },
     "execution_count": 45,
     "metadata": {},
     "output_type": "execute_result"
    }
   ],
   "source": [
    "df1[\"trip_duration\"].describe()"
   ]
  },
  {
   "cell_type": "code",
   "execution_count": 46,
   "metadata": {},
   "outputs": [
    {
     "data": {
      "text/plain": [
       "1074"
      ]
     },
     "execution_count": 46,
     "metadata": {},
     "output_type": "execute_result"
    }
   ],
   "source": [
    "len(df1.query(\"trip_duration==0.0\"))"
   ]
  },
  {
   "cell_type": "code",
   "execution_count": 47,
   "metadata": {},
   "outputs": [
    {
     "data": {
      "text/plain": [
       "trip_duration\n",
       "0.0    1074\n",
       "1.0     110\n",
       "2.0     592\n",
       "3.0     706\n",
       "4.0     571\n",
       "dtype: int64"
      ]
     },
     "execution_count": 47,
     "metadata": {},
     "output_type": "execute_result"
    }
   ],
   "source": [
    "df1.groupby('trip_duration').size().head()"
   ]
  },
  {
   "cell_type": "markdown",
   "metadata": {},
   "source": [
    "### Trip distance & weekday & pickup hour"
   ]
  },
  {
   "cell_type": "code",
   "execution_count": 48,
   "metadata": {},
   "outputs": [
    {
     "data": {
      "image/png": "[encoded data removed]",
      "text/plain": [
       "<Figure size 720x720 with 1 Axes>"
      ]
     },
     "metadata": {
      "needs_background": "light"
     },
     "output_type": "display_data"
    }
   ],
   "source": [
    "plt.figure(figsize=(10,10))\n",
    "sns.stripplot(x=\"pickup_weekday_name\",y=\"trip_distance\",hue='pickup_hour',data=df1)\n",
    "plt.show()"
   ]
  },
  {
   "cell_type": "code",
   "execution_count": 49,
   "metadata": {},
   "outputs": [
    {
     "name": "stdout",
     "output_type": "stream",
     "text": [
      "The longest trip distance in the datasat is: 222.96\n",
      "The shortest trip distance in the datasat is: 0.0\n"
     ]
    }
   ],
   "source": [
    "print(\"The longest trip distance in the datasat is:\",df1[\"trip_distance\"].max())\n",
    "print(\"The shortest trip distance in the datasat is:\",df1[\"trip_distance\"].min())"
   ]
  },
  {
   "cell_type": "code",
   "execution_count": 50,
   "metadata": {},
   "outputs": [
    {
     "data": {
      "text/plain": [
       "trip_distance\n",
       "0.00    9493\n",
       "0.01     565\n",
       "0.02     430\n",
       "0.03     342\n",
       "0.04     245\n",
       "dtype: int64"
      ]
     },
     "execution_count": 50,
     "metadata": {},
     "output_type": "execute_result"
    }
   ],
   "source": [
    "df1.groupby('trip_distance').size().head()"
   ]
  },
  {
   "cell_type": "code",
   "execution_count": 51,
   "metadata": {},
   "outputs": [
    {
     "data": {
      "text/html": [
       "<div>\n",
       "<style scoped>\n",
       "    .dataframe tbody tr th:only-of-type {\n",
       "        vertical-align: middle;\n",
       "    }\n",
       "\n",
       "    .dataframe tbody tr th {\n",
       "        vertical-align: top;\n",
       "    }\n",
       "\n",
       "    .dataframe thead th {\n",
       "        text-align: right;\n",
       "    }\n",
       "</style>\n",
       "<table border=\"1\" class=\"dataframe\">\n",
       "  <thead>\n",
       "    <tr style=\"text-align: right;\">\n",
       "      <th></th>\n",
       "      <th>pickup_weekday_name</th>\n",
       "      <th>pickup_hour</th>\n",
       "      <th>tpep_pickup_datetime</th>\n",
       "      <th>tpep_dropoff_datetime</th>\n",
       "      <th>trip_duration</th>\n",
       "      <th>PULocationID</th>\n",
       "      <th>DOLocationID</th>\n",
       "      <th>trip_distance</th>\n",
       "      <th>passenger_count</th>\n",
       "    </tr>\n",
       "  </thead>\n",
       "  <tbody>\n",
       "    <tr>\n",
       "      <th>162775</th>\n",
       "      <td>Friday</td>\n",
       "      <td>18</td>\n",
       "      <td>2018-06-01 18:47:39</td>\n",
       "      <td>2018-06-01 18:50:38</td>\n",
       "      <td>179.0</td>\n",
       "      <td>264</td>\n",
       "      <td>264</td>\n",
       "      <td>0.0</td>\n",
       "      <td>1</td>\n",
       "    </tr>\n",
       "    <tr>\n",
       "      <th>181486</th>\n",
       "      <td>Friday</td>\n",
       "      <td>17</td>\n",
       "      <td>2018-06-01 17:00:04</td>\n",
       "      <td>2018-06-01 17:00:06</td>\n",
       "      <td>2.0</td>\n",
       "      <td>170</td>\n",
       "      <td>170</td>\n",
       "      <td>0.0</td>\n",
       "      <td>1</td>\n",
       "    </tr>\n",
       "    <tr>\n",
       "      <th>191426</th>\n",
       "      <td>Friday</td>\n",
       "      <td>17</td>\n",
       "      <td>2018-06-01 17:54:35</td>\n",
       "      <td>2018-06-01 17:57:31</td>\n",
       "      <td>176.0</td>\n",
       "      <td>145</td>\n",
       "      <td>145</td>\n",
       "      <td>0.0</td>\n",
       "      <td>1</td>\n",
       "    </tr>\n",
       "    <tr>\n",
       "      <th>191427</th>\n",
       "      <td>Friday</td>\n",
       "      <td>17</td>\n",
       "      <td>2018-06-01 17:43:47</td>\n",
       "      <td>2018-06-01 17:43:59</td>\n",
       "      <td>12.0</td>\n",
       "      <td>226</td>\n",
       "      <td>226</td>\n",
       "      <td>0.0</td>\n",
       "      <td>1</td>\n",
       "    </tr>\n",
       "    <tr>\n",
       "      <th>191428</th>\n",
       "      <td>Friday</td>\n",
       "      <td>17</td>\n",
       "      <td>2018-06-01 17:47:00</td>\n",
       "      <td>2018-06-01 17:47:11</td>\n",
       "      <td>11.0</td>\n",
       "      <td>226</td>\n",
       "      <td>226</td>\n",
       "      <td>0.0</td>\n",
       "      <td>1</td>\n",
       "    </tr>\n",
       "  </tbody>\n",
       "</table>\n",
       "</div>"
      ],
      "text/plain": [
       "       pickup_weekday_name  pickup_hour tpep_pickup_datetime  \\\n",
       "162775              Friday           18  2018-06-01 18:47:39   \n",
       "181486              Friday           17  2018-06-01 17:00:04   \n",
       "191426              Friday           17  2018-06-01 17:54:35   \n",
       "191427              Friday           17  2018-06-01 17:43:47   \n",
       "191428              Friday           17  2018-06-01 17:47:00   \n",
       "\n",
       "       tpep_dropoff_datetime  trip_duration  PULocationID  DOLocationID  \\\n",
       "162775   2018-06-01 18:50:38          179.0           264           264   \n",
       "181486   2018-06-01 17:00:06            2.0           170           170   \n",
       "191426   2018-06-01 17:57:31          176.0           145           145   \n",
       "191427   2018-06-01 17:43:59           12.0           226           226   \n",
       "191428   2018-06-01 17:47:11           11.0           226           226   \n",
       "\n",
       "        trip_distance  passenger_count  \n",
       "162775            0.0                1  \n",
       "181486            0.0                1  \n",
       "191426            0.0                1  \n",
       "191427            0.0                1  \n",
       "191428            0.0                1  "
      ]
     },
     "execution_count": 51,
     "metadata": {},
     "output_type": "execute_result"
    }
   ],
   "source": [
    "df1.query(\"trip_distance == 0\").head()"
   ]
  },
  {
   "cell_type": "code",
   "execution_count": 52,
   "metadata": {},
   "outputs": [
    {
     "data": {
      "text/plain": [
       "pickup_weekday_name      8487\n",
       "pickup_hour              8487\n",
       "tpep_pickup_datetime     8487\n",
       "tpep_dropoff_datetime    8487\n",
       "trip_duration            8487\n",
       "PULocationID             8487\n",
       "DOLocationID             8487\n",
       "trip_distance            8487\n",
       "passenger_count          8487\n",
       "dtype: int64"
      ]
     },
     "execution_count": 52,
     "metadata": {},
     "output_type": "execute_result"
    }
   ],
   "source": [
    "df1.query(\"(trip_duration==0 & trip_distance!=0) | (trip_duration!=0 & trip_distance==0)\").count()"
   ]
  },
  {
   "cell_type": "markdown",
   "metadata": {},
   "source": [
    "#### I found some data either has trip duration but with no trip distance or has trip distance but no trip duration."
   ]
  },
  {
   "cell_type": "markdown",
   "metadata": {},
   "source": [
    "# --------------------------------------------------------------------------------------------------------------"
   ]
  },
  {
   "cell_type": "markdown",
   "metadata": {},
   "source": [
    "## 2.3 Extreme trip circumstances:\n",
    "#### Case 1. trip duration longer than 22 hours ---> removed\n",
    "#### Case 2. trip duration longer than 60 seconds, but trip distance is 0 ---> removed\n",
    "#### Case 3. trip duration is 0, but trip distance is not 0 ---> removed\n",
    "#### Case 4. trip duration is 0 and trip distance is 0 ---> keeped ***\n",
    "\n",
    "#### Notice : The goal is to predict trip duration by pickup location, dropoff location and weekday"
   ]
  },
  {
   "cell_type": "code",
   "execution_count": 53,
   "metadata": {},
   "outputs": [],
   "source": [
    "# 1. trip duration longer than 22 hours = 22*60*60 = 79200 seconds---> removed\n",
    "df1 = df1.drop(df1[df1.trip_duration > 79200].index)"
   ]
  },
  {
   "cell_type": "code",
   "execution_count": 54,
   "metadata": {},
   "outputs": [
    {
     "data": {
      "text/plain": [
       "(1549691, 9)"
      ]
     },
     "execution_count": 54,
     "metadata": {},
     "output_type": "execute_result"
    }
   ],
   "source": [
    "df1.shape"
   ]
  },
  {
   "cell_type": "code",
   "execution_count": 55,
   "metadata": {},
   "outputs": [],
   "source": [
    "# 2. trip duration longer than 60 seconds, but trip distance is 0 ---> removed\n",
    "df1 = df1.drop(df1[(df1.trip_duration > 60) & (df1.trip_distance == 0)].index)"
   ]
  },
  {
   "cell_type": "code",
   "execution_count": 56,
   "metadata": {},
   "outputs": [
    {
     "data": {
      "text/plain": [
       "(1547793, 9)"
      ]
     },
     "execution_count": 56,
     "metadata": {},
     "output_type": "execute_result"
    }
   ],
   "source": [
    "df1.shape"
   ]
  },
  {
   "cell_type": "code",
   "execution_count": 57,
   "metadata": {},
   "outputs": [],
   "source": [
    "# 3. trip duration is 0, but trip distance is not 0 ---> removed\n",
    "df1 = df1.drop(df1[(df1.trip_duration == 0) & (df1.trip_distance != 0)].index)"
   ]
  },
  {
   "cell_type": "code",
   "execution_count": 58,
   "metadata": {},
   "outputs": [
    {
     "data": {
      "text/plain": [
       "(1547759, 9)"
      ]
     },
     "execution_count": 58,
     "metadata": {},
     "output_type": "execute_result"
    }
   ],
   "source": [
    "df1.shape"
   ]
  },
  {
   "cell_type": "code",
   "execution_count": 59,
   "metadata": {},
   "outputs": [
    {
     "data": {
      "text/html": [
       "<div>\n",
       "<style scoped>\n",
       "    .dataframe tbody tr th:only-of-type {\n",
       "        vertical-align: middle;\n",
       "    }\n",
       "\n",
       "    .dataframe tbody tr th {\n",
       "        vertical-align: top;\n",
       "    }\n",
       "\n",
       "    .dataframe thead th {\n",
       "        text-align: right;\n",
       "    }\n",
       "</style>\n",
       "<table border=\"1\" class=\"dataframe\">\n",
       "  <thead>\n",
       "    <tr style=\"text-align: right;\">\n",
       "      <th></th>\n",
       "      <th>pickup_weekday_name</th>\n",
       "      <th>pickup_hour</th>\n",
       "      <th>tpep_pickup_datetime</th>\n",
       "      <th>tpep_dropoff_datetime</th>\n",
       "      <th>trip_duration</th>\n",
       "      <th>PULocationID</th>\n",
       "      <th>DOLocationID</th>\n",
       "      <th>trip_distance</th>\n",
       "      <th>passenger_count</th>\n",
       "    </tr>\n",
       "  </thead>\n",
       "  <tbody>\n",
       "    <tr>\n",
       "      <th>149221</th>\n",
       "      <td>Friday</td>\n",
       "      <td>17</td>\n",
       "      <td>2018-06-01 17:00:40</td>\n",
       "      <td>2018-06-01 17:04:40</td>\n",
       "      <td>240.0</td>\n",
       "      <td>143</td>\n",
       "      <td>232</td>\n",
       "      <td>0.61</td>\n",
       "      <td>1</td>\n",
       "    </tr>\n",
       "    <tr>\n",
       "      <th>149222</th>\n",
       "      <td>Friday</td>\n",
       "      <td>17</td>\n",
       "      <td>2018-06-01 17:17:26</td>\n",
       "      <td>2018-06-01 17:22:54</td>\n",
       "      <td>328.0</td>\n",
       "      <td>107</td>\n",
       "      <td>4</td>\n",
       "      <td>1.16</td>\n",
       "      <td>2</td>\n",
       "    </tr>\n",
       "    <tr>\n",
       "      <th>149223</th>\n",
       "      <td>Friday</td>\n",
       "      <td>17</td>\n",
       "      <td>2018-06-01 17:28:20</td>\n",
       "      <td>2018-06-01 17:40:55</td>\n",
       "      <td>755.0</td>\n",
       "      <td>224</td>\n",
       "      <td>90</td>\n",
       "      <td>1.27</td>\n",
       "      <td>1</td>\n",
       "    </tr>\n",
       "    <tr>\n",
       "      <th>176869</th>\n",
       "      <td>Friday</td>\n",
       "      <td>17</td>\n",
       "      <td>2018-06-01 17:00:46</td>\n",
       "      <td>2018-06-01 17:09:12</td>\n",
       "      <td>506.0</td>\n",
       "      <td>239</td>\n",
       "      <td>151</td>\n",
       "      <td>1.31</td>\n",
       "      <td>3</td>\n",
       "    </tr>\n",
       "    <tr>\n",
       "      <th>176898</th>\n",
       "      <td>Friday</td>\n",
       "      <td>17</td>\n",
       "      <td>2018-06-01 17:02:14</td>\n",
       "      <td>2018-06-01 17:06:18</td>\n",
       "      <td>244.0</td>\n",
       "      <td>142</td>\n",
       "      <td>239</td>\n",
       "      <td>0.54</td>\n",
       "      <td>2</td>\n",
       "    </tr>\n",
       "  </tbody>\n",
       "</table>\n",
       "</div>"
      ],
      "text/plain": [
       "       pickup_weekday_name  pickup_hour tpep_pickup_datetime  \\\n",
       "149221              Friday           17  2018-06-01 17:00:40   \n",
       "149222              Friday           17  2018-06-01 17:17:26   \n",
       "149223              Friday           17  2018-06-01 17:28:20   \n",
       "176869              Friday           17  2018-06-01 17:00:46   \n",
       "176898              Friday           17  2018-06-01 17:02:14   \n",
       "\n",
       "       tpep_dropoff_datetime  trip_duration  PULocationID  DOLocationID  \\\n",
       "149221   2018-06-01 17:04:40          240.0           143           232   \n",
       "149222   2018-06-01 17:22:54          328.0           107             4   \n",
       "149223   2018-06-01 17:40:55          755.0           224            90   \n",
       "176869   2018-06-01 17:09:12          506.0           239           151   \n",
       "176898   2018-06-01 17:06:18          244.0           142           239   \n",
       "\n",
       "        trip_distance  passenger_count  \n",
       "149221           0.61                1  \n",
       "149222           1.16                2  \n",
       "149223           1.27                1  \n",
       "176869           1.31                3  \n",
       "176898           0.54                2  "
      ]
     },
     "execution_count": 59,
     "metadata": {},
     "output_type": "execute_result"
    }
   ],
   "source": [
    "df1.head()"
   ]
  },
  {
   "cell_type": "code",
   "execution_count": 60,
   "metadata": {},
   "outputs": [],
   "source": [
    "# drop all the columns that will not be used in my prediction model\n",
    "df_rushhour = df1.drop(['pickup_hour', 'tpep_pickup_datetime', 'tpep_dropoff_datetime', 'trip_distance', 'passenger_count'],axis=1)"
   ]
  },
  {
   "cell_type": "code",
   "execution_count": 61,
   "metadata": {
    "scrolled": true
   },
   "outputs": [
    {
     "data": {
      "text/html": [
       "<div>\n",
       "<style scoped>\n",
       "    .dataframe tbody tr th:only-of-type {\n",
       "        vertical-align: middle;\n",
       "    }\n",
       "\n",
       "    .dataframe tbody tr th {\n",
       "        vertical-align: top;\n",
       "    }\n",
       "\n",
       "    .dataframe thead th {\n",
       "        text-align: right;\n",
       "    }\n",
       "</style>\n",
       "<table border=\"1\" class=\"dataframe\">\n",
       "  <thead>\n",
       "    <tr style=\"text-align: right;\">\n",
       "      <th></th>\n",
       "      <th>pickup_weekday_name</th>\n",
       "      <th>trip_duration</th>\n",
       "      <th>PULocationID</th>\n",
       "      <th>DOLocationID</th>\n",
       "    </tr>\n",
       "  </thead>\n",
       "  <tbody>\n",
       "    <tr>\n",
       "      <th>149221</th>\n",
       "      <td>Friday</td>\n",
       "      <td>240.0</td>\n",
       "      <td>143</td>\n",
       "      <td>232</td>\n",
       "    </tr>\n",
       "    <tr>\n",
       "      <th>149222</th>\n",
       "      <td>Friday</td>\n",
       "      <td>328.0</td>\n",
       "      <td>107</td>\n",
       "      <td>4</td>\n",
       "    </tr>\n",
       "    <tr>\n",
       "      <th>149223</th>\n",
       "      <td>Friday</td>\n",
       "      <td>755.0</td>\n",
       "      <td>224</td>\n",
       "      <td>90</td>\n",
       "    </tr>\n",
       "    <tr>\n",
       "      <th>176869</th>\n",
       "      <td>Friday</td>\n",
       "      <td>506.0</td>\n",
       "      <td>239</td>\n",
       "      <td>151</td>\n",
       "    </tr>\n",
       "    <tr>\n",
       "      <th>176898</th>\n",
       "      <td>Friday</td>\n",
       "      <td>244.0</td>\n",
       "      <td>142</td>\n",
       "      <td>239</td>\n",
       "    </tr>\n",
       "  </tbody>\n",
       "</table>\n",
       "</div>"
      ],
      "text/plain": [
       "       pickup_weekday_name  trip_duration  PULocationID  DOLocationID\n",
       "149221              Friday          240.0           143           232\n",
       "149222              Friday          328.0           107             4\n",
       "149223              Friday          755.0           224            90\n",
       "176869              Friday          506.0           239           151\n",
       "176898              Friday          244.0           142           239"
      ]
     },
     "execution_count": 61,
     "metadata": {},
     "output_type": "execute_result"
    }
   ],
   "source": [
    "df_rushhour.head()"
   ]
  },
  {
   "cell_type": "code",
   "execution_count": 62,
   "metadata": {},
   "outputs": [
    {
     "data": {
      "image/png": "[encoded data removed]",
      "text/plain": [
       "<Figure size 1440x576 with 1 Axes>"
      ]
     },
     "metadata": {
      "needs_background": "light"
     },
     "output_type": "display_data"
    }
   ],
   "source": [
    "plt.figure(figsize=(20,8))\n",
    "sns.countplot(x=\"PULocationID\", data=df_rushhour)\n",
    "plt.show()"
   ]
  },
  {
   "cell_type": "code",
   "execution_count": 63,
   "metadata": {},
   "outputs": [
    {
     "name": "stdout",
     "output_type": "stream",
     "text": [
      "The top 5 most popular pick-up location ID is:\n"
     ]
    },
    {
     "data": {
      "text/plain": [
       "237    72517\n",
       "161    66420\n",
       "162    63687\n",
       "236    59589\n",
       "234    54371\n",
       "Name: PULocationID, dtype: int64"
      ]
     },
     "execution_count": 63,
     "metadata": {},
     "output_type": "execute_result"
    }
   ],
   "source": [
    "print(\"The top 5 most popular pick-up location ID is:\")\n",
    "df_rushhour['PULocationID'].value_counts().head()"
   ]
  },
  {
   "cell_type": "code",
   "execution_count": 64,
   "metadata": {},
   "outputs": [
    {
     "data": {
      "image/png": "[encoded data removed]",
      "text/plain": [
       "<Figure size 720x720 with 1 Axes>"
      ]
     },
     "metadata": {
      "needs_background": "light"
     },
     "output_type": "display_data"
    }
   ],
   "source": [
    "plt.figure(figsize=(10,10))\n",
    "sns.scatterplot(x=\"PULocationID\",y=\"trip_duration\",data=df_rushhour)\n",
    "plt.show()"
   ]
  },
  {
   "cell_type": "code",
   "execution_count": 65,
   "metadata": {},
   "outputs": [
    {
     "data": {
      "image/png": "[encoded data removed]",
      "text/plain": [
       "<Figure size 720x720 with 1 Axes>"
      ]
     },
     "metadata": {
      "needs_background": "light"
     },
     "output_type": "display_data"
    }
   ],
   "source": [
    "plt.figure(figsize=(10,10))\n",
    "sns.scatterplot(x=\"pickup_weekday_name\",y=\"trip_duration\",data=df_rushhour)\n",
    "plt.show()"
   ]
  },
  {
   "cell_type": "markdown",
   "metadata": {},
   "source": [
    "# --------------------------------------------------------------------------------------------------------------"
   ]
  },
  {
   "cell_type": "markdown",
   "metadata": {},
   "source": [
    "## 2.4 Feature Preprocessing"
   ]
  },
  {
   "cell_type": "markdown",
   "metadata": {},
   "source": [
    "### Use One-Hot encoding on categorical features\n",
    "\n",
    "#### There are 3 categorical features: pickup_weekday_name, PULocationID and DOLocationID.\n",
    "#### pickup_weekday_name: has 7 sub-types, they can be easily converted to dummies.\n",
    "#### PULocationID: 1-265 different location IDs (only 246 of them appeared in the targeted dataset)\n",
    "#### DOLocationID: 1-265 different location IDs (only 261 of them appeared in the targeted dataset)"
   ]
  },
  {
   "cell_type": "code",
   "execution_count": 66,
   "metadata": {},
   "outputs": [],
   "source": [
    "weekday = pd.get_dummies(df_rushhour.pickup_weekday_name).astype(np.int64)\n",
    "pickup = pd.get_dummies(df_rushhour.PULocationID).astype(np.int64)\n",
    "dropoff= pd.get_dummies(df_rushhour.DOLocationID).astype(np.int64)"
   ]
  },
  {
   "cell_type": "code",
   "execution_count": 67,
   "metadata": {},
   "outputs": [
    {
     "name": "stdout",
     "output_type": "stream",
     "text": [
      "        Friday  Monday  Saturday  Sunday  Thursday  Tuesday  Wednesday\n",
      "149221       1       0         0       0         0        0          0\n",
      "149222       1       0         0       0         0        0          0\n",
      "149223       1       0         0       0         0        0          0\n",
      "176869       1       0         0       0         0        0          0\n",
      "176898       1       0         0       0         0        0          0\n",
      "        1    2    3    4    7    8    9    10   11   12   ...  256  257  258  \\\n",
      "149221    0    0    0    0    0    0    0    0    0    0  ...    0    0    0   \n",
      "149222    0    0    0    0    0    0    0    0    0    0  ...    0    0    0   \n",
      "149223    0    0    0    0    0    0    0    0    0    0  ...    0    0    0   \n",
      "176869    0    0    0    0    0    0    0    0    0    0  ...    0    0    0   \n",
      "176898    0    0    0    0    0    0    0    0    0    0  ...    0    0    0   \n",
      "\n",
      "        259  260  261  262  263  264  265  \n",
      "149221    0    0    0    0    0    0    0  \n",
      "149222    0    0    0    0    0    0    0  \n",
      "149223    0    0    0    0    0    0    0  \n",
      "176869    0    0    0    0    0    0    0  \n",
      "176898    0    0    0    0    0    0    0  \n",
      "\n",
      "[5 rows x 246 columns]\n",
      "        1    2    3    4    5    6    7    8    9    10   ...  256  257  258  \\\n",
      "149221    0    0    0    0    0    0    0    0    0    0  ...    0    0    0   \n",
      "149222    0    0    0    1    0    0    0    0    0    0  ...    0    0    0   \n",
      "149223    0    0    0    0    0    0    0    0    0    0  ...    0    0    0   \n",
      "176869    0    0    0    0    0    0    0    0    0    0  ...    0    0    0   \n",
      "176898    0    0    0    0    0    0    0    0    0    0  ...    0    0    0   \n",
      "\n",
      "        259  260  261  262  263  264  265  \n",
      "149221    0    0    0    0    0    0    0  \n",
      "149222    0    0    0    0    0    0    0  \n",
      "149223    0    0    0    0    0    0    0  \n",
      "176869    0    0    0    0    0    0    0  \n",
      "176898    0    0    0    0    0    0    0  \n",
      "\n",
      "[5 rows x 261 columns]\n"
     ]
    }
   ],
   "source": [
    "print(weekday.head(5))\n",
    "print(pickup.head(5))\n",
    "print(dropoff.head(5))"
   ]
  },
  {
   "cell_type": "code",
   "execution_count": 68,
   "metadata": {},
   "outputs": [
    {
     "name": "stdout",
     "output_type": "stream",
     "text": [
      "(1547759, 515)\n",
      "        trip_duration  Friday  Monday  Saturday  Sunday  Thursday  Tuesday  \\\n",
      "149221          240.0       1       0         0       0         0        0   \n",
      "149222          328.0       1       0         0       0         0        0   \n",
      "149223          755.0       1       0         0       0         0        0   \n",
      "176869          506.0       1       0         0       0         0        0   \n",
      "176898          244.0       1       0         0       0         0        0   \n",
      "\n",
      "        Wednesday  1  2  ...  256  257  258  259  260  261  262  263  264  265  \n",
      "149221          0  0  0  ...    0    0    0    0    0    0    0    0    0    0  \n",
      "149222          0  0  0  ...    0    0    0    0    0    0    0    0    0    0  \n",
      "149223          0  0  0  ...    0    0    0    0    0    0    0    0    0    0  \n",
      "176869          0  0  0  ...    0    0    0    0    0    0    0    0    0    0  \n",
      "176898          0  0  0  ...    0    0    0    0    0    0    0    0    0    0  \n",
      "\n",
      "[5 rows x 515 columns]\n"
     ]
    }
   ],
   "source": [
    "# new dataframe\n",
    "# drop the previous categorical features, add new dummy variables\n",
    "df_rushhour_temp = df_rushhour.drop(['pickup_weekday_name', 'PULocationID', 'DOLocationID'], axis=1)\n",
    "df_rushhour_new = pd.concat([df_rushhour_temp, weekday, pickup, dropoff], axis=1)\n",
    "print(df_rushhour_new.shape)\n",
    "print(df_rushhour_new.head())\n",
    "df_rushhour_0 = df_rushhour_new.copy() # a copy of df_rushhour_new"
   ]
  },
  {
   "cell_type": "code",
   "execution_count": 69,
   "metadata": {},
   "outputs": [
    {
     "data": {
      "text/html": [
       "<div>\n",
       "<style scoped>\n",
       "    .dataframe tbody tr th:only-of-type {\n",
       "        vertical-align: middle;\n",
       "    }\n",
       "\n",
       "    .dataframe tbody tr th {\n",
       "        vertical-align: top;\n",
       "    }\n",
       "\n",
       "    .dataframe thead th {\n",
       "        text-align: right;\n",
       "    }\n",
       "</style>\n",
       "<table border=\"1\" class=\"dataframe\">\n",
       "  <thead>\n",
       "    <tr style=\"text-align: right;\">\n",
       "      <th></th>\n",
       "      <th>trip_duration</th>\n",
       "      <th>Friday</th>\n",
       "      <th>Monday</th>\n",
       "      <th>Saturday</th>\n",
       "      <th>Sunday</th>\n",
       "      <th>Thursday</th>\n",
       "      <th>Tuesday</th>\n",
       "      <th>Wednesday</th>\n",
       "      <th>1</th>\n",
       "      <th>2</th>\n",
       "      <th>...</th>\n",
       "      <th>256</th>\n",
       "      <th>257</th>\n",
       "      <th>258</th>\n",
       "      <th>259</th>\n",
       "      <th>260</th>\n",
       "      <th>261</th>\n",
       "      <th>262</th>\n",
       "      <th>263</th>\n",
       "      <th>264</th>\n",
       "      <th>265</th>\n",
       "    </tr>\n",
       "  </thead>\n",
       "  <tbody>\n",
       "    <tr>\n",
       "      <th>149221</th>\n",
       "      <td>240.0</td>\n",
       "      <td>1</td>\n",
       "      <td>0</td>\n",
       "      <td>0</td>\n",
       "      <td>0</td>\n",
       "      <td>0</td>\n",
       "      <td>0</td>\n",
       "      <td>0</td>\n",
       "      <td>0</td>\n",
       "      <td>0</td>\n",
       "      <td>...</td>\n",
       "      <td>0</td>\n",
       "      <td>0</td>\n",
       "      <td>0</td>\n",
       "      <td>0</td>\n",
       "      <td>0</td>\n",
       "      <td>0</td>\n",
       "      <td>0</td>\n",
       "      <td>0</td>\n",
       "      <td>0</td>\n",
       "      <td>0</td>\n",
       "    </tr>\n",
       "    <tr>\n",
       "      <th>149222</th>\n",
       "      <td>328.0</td>\n",
       "      <td>1</td>\n",
       "      <td>0</td>\n",
       "      <td>0</td>\n",
       "      <td>0</td>\n",
       "      <td>0</td>\n",
       "      <td>0</td>\n",
       "      <td>0</td>\n",
       "      <td>0</td>\n",
       "      <td>0</td>\n",
       "      <td>...</td>\n",
       "      <td>0</td>\n",
       "      <td>0</td>\n",
       "      <td>0</td>\n",
       "      <td>0</td>\n",
       "      <td>0</td>\n",
       "      <td>0</td>\n",
       "      <td>0</td>\n",
       "      <td>0</td>\n",
       "      <td>0</td>\n",
       "      <td>0</td>\n",
       "    </tr>\n",
       "    <tr>\n",
       "      <th>149223</th>\n",
       "      <td>755.0</td>\n",
       "      <td>1</td>\n",
       "      <td>0</td>\n",
       "      <td>0</td>\n",
       "      <td>0</td>\n",
       "      <td>0</td>\n",
       "      <td>0</td>\n",
       "      <td>0</td>\n",
       "      <td>0</td>\n",
       "      <td>0</td>\n",
       "      <td>...</td>\n",
       "      <td>0</td>\n",
       "      <td>0</td>\n",
       "      <td>0</td>\n",
       "      <td>0</td>\n",
       "      <td>0</td>\n",
       "      <td>0</td>\n",
       "      <td>0</td>\n",
       "      <td>0</td>\n",
       "      <td>0</td>\n",
       "      <td>0</td>\n",
       "    </tr>\n",
       "    <tr>\n",
       "      <th>176869</th>\n",
       "      <td>506.0</td>\n",
       "      <td>1</td>\n",
       "      <td>0</td>\n",
       "      <td>0</td>\n",
       "      <td>0</td>\n",
       "      <td>0</td>\n",
       "      <td>0</td>\n",
       "      <td>0</td>\n",
       "      <td>0</td>\n",
       "      <td>0</td>\n",
       "      <td>...</td>\n",
       "      <td>0</td>\n",
       "      <td>0</td>\n",
       "      <td>0</td>\n",
       "      <td>0</td>\n",
       "      <td>0</td>\n",
       "      <td>0</td>\n",
       "      <td>0</td>\n",
       "      <td>0</td>\n",
       "      <td>0</td>\n",
       "      <td>0</td>\n",
       "    </tr>\n",
       "    <tr>\n",
       "      <th>176898</th>\n",
       "      <td>244.0</td>\n",
       "      <td>1</td>\n",
       "      <td>0</td>\n",
       "      <td>0</td>\n",
       "      <td>0</td>\n",
       "      <td>0</td>\n",
       "      <td>0</td>\n",
       "      <td>0</td>\n",
       "      <td>0</td>\n",
       "      <td>0</td>\n",
       "      <td>...</td>\n",
       "      <td>0</td>\n",
       "      <td>0</td>\n",
       "      <td>0</td>\n",
       "      <td>0</td>\n",
       "      <td>0</td>\n",
       "      <td>0</td>\n",
       "      <td>0</td>\n",
       "      <td>0</td>\n",
       "      <td>0</td>\n",
       "      <td>0</td>\n",
       "    </tr>\n",
       "  </tbody>\n",
       "</table>\n",
       "<p>5 rows × 515 columns</p>\n",
       "</div>"
      ],
      "text/plain": [
       "        trip_duration  Friday  Monday  Saturday  Sunday  Thursday  Tuesday  \\\n",
       "149221          240.0       1       0         0       0         0        0   \n",
       "149222          328.0       1       0         0       0         0        0   \n",
       "149223          755.0       1       0         0       0         0        0   \n",
       "176869          506.0       1       0         0       0         0        0   \n",
       "176898          244.0       1       0         0       0         0        0   \n",
       "\n",
       "        Wednesday  1  2  ...  256  257  258  259  260  261  262  263  264  265  \n",
       "149221          0  0  0  ...    0    0    0    0    0    0    0    0    0    0  \n",
       "149222          0  0  0  ...    0    0    0    0    0    0    0    0    0    0  \n",
       "149223          0  0  0  ...    0    0    0    0    0    0    0    0    0    0  \n",
       "176869          0  0  0  ...    0    0    0    0    0    0    0    0    0    0  \n",
       "176898          0  0  0  ...    0    0    0    0    0    0    0    0    0    0  \n",
       "\n",
       "[5 rows x 515 columns]"
      ]
     },
     "execution_count": 69,
     "metadata": {},
     "output_type": "execute_result"
    }
   ],
   "source": [
    "df_rushhour_0.head()"
   ]
  },
  {
   "cell_type": "markdown",
   "metadata": {},
   "source": [
    "#### Now the data is prepared for model training."
   ]
  }
 ],
 "metadata": {
  "kernelspec": {
   "display_name": "Python 3",
   "language": "python",
   "name": "python3"
  },
  "language_info": {
   "codemirror_mode": {
    "name": "ipython",
    "version": 3
   },
   "file_extension": ".py",
   "mimetype": "text/x-python",
   "name": "python",
   "nbconvert_exporter": "python",
   "pygments_lexer": "ipython3",
   "version": "3.7.2"
  }
 },
 "nbformat": 4,
 "nbformat_minor": 2
}
